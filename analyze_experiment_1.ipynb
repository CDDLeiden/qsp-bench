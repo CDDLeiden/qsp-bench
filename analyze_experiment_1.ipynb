{
 "cells": [
  {
   "cell_type": "code",
   "execution_count": 17,
   "id": "initial_id",
   "metadata": {
    "ExecuteTime": {
     "end_time": "2024-02-08T11:20:05.369903291Z",
     "start_time": "2024-02-08T11:20:05.365382651Z"
    }
   },
   "outputs": [],
   "source": [
    "SINGLETASK_NAME = \"singletask_reg\"\n",
    "MULTITASK_NAME = \"multitask_reg\"\n",
    "SINGLETASK_RESULTS_DIR = f\"./data/{SINGLETASK_NAME}\"\n",
    "MULTITASK_RESULTS_DIR = f\"./data/{MULTITASK_NAME}\""
   ]
  },
  {
   "cell_type": "code",
   "execution_count": 18,
   "id": "db23234ed358f810",
   "metadata": {
    "collapsed": false,
    "ExecuteTime": {
     "end_time": "2024-02-08T11:20:05.417491102Z",
     "start_time": "2024-02-08T11:20:05.370500830Z"
    }
   },
   "outputs": [],
   "source": [
    "import pandas as pd\n",
    "\n",
    "df_singletask = pd.read_table(f\"{SINGLETASK_RESULTS_DIR}/results.tsv\")\n",
    "df_singletask[\"Name\"] = SINGLETASK_NAME\n",
    "df_multitask = pd.read_table(f\"{MULTITASK_RESULTS_DIR}/results.tsv\")\n",
    "df_multitask[\"Name\"] = MULTITASK_NAME"
   ]
  },
  {
   "cell_type": "code",
   "execution_count": 19,
   "id": "aa870a74fb10ca36",
   "metadata": {
    "collapsed": false,
    "ExecuteTime": {
     "end_time": "2024-02-08T11:20:05.431220876Z",
     "start_time": "2024-02-08T11:20:05.417384077Z"
    }
   },
   "outputs": [
    {
     "data": {
      "text/plain": "             Assessor                ScoreFunc     Score TargetProperty  \\\n0     TestSetAssessor                 r2_score -0.003450         P30542   \n1     TestSetAssessor  root_mean_squared_error  0.991452         P30542   \n2     TestSetAssessor                 r2_score  0.493858         P30542   \n3     TestSetAssessor  root_mean_squared_error  0.705991         P30542   \n4     TestSetAssessor                 r2_score  0.556219         P30542   \n...               ...                      ...       ...            ...   \n1435  TestSetAssessor  root_mean_squared_error  0.906257         P0DMS8   \n1436  TestSetAssessor                 r2_score -0.000021         P0DMS8   \n1437  TestSetAssessor  root_mean_squared_error  1.175569         P0DMS8   \n1438  TestSetAssessor                 r2_score  0.560002         P0DMS8   \n1439  TestSetAssessor  root_mean_squared_error  0.782597         P0DMS8   \n\n      TargetTask                                          ModelFile  \\\n0     REGRESSION  /home/sichom/projects/qsp-bench/data/singletas...   \n1     REGRESSION  /home/sichom/projects/qsp-bench/data/singletas...   \n2     REGRESSION  /home/sichom/projects/qsp-bench/data/singletas...   \n3     REGRESSION  /home/sichom/projects/qsp-bench/data/singletas...   \n4     REGRESSION  /home/sichom/projects/qsp-bench/data/singletas...   \n...          ...                                                ...   \n1435  REGRESSION  /home/sichom/projects/qsp-bench/data/singletas...   \n1436  REGRESSION  /home/sichom/projects/qsp-bench/data/singletas...   \n1437  REGRESSION  /home/sichom/projects/qsp-bench/data/singletas...   \n1438  REGRESSION  /home/sichom/projects/qsp-bench/data/singletas...   \n1439  REGRESSION  /home/sichom/projects/qsp-bench/data/singletas...   \n\n                        Algorithm                           ModelName  \\\n0     MedianDistributionAlgorithm               singletask_reg_Random   \n1     MedianDistributionAlgorithm               singletask_reg_Random   \n2             KNeighborsRegressor  singletask_reg_KNeighborsRegressor   \n3             KNeighborsRegressor  singletask_reg_KNeighborsRegressor   \n4                    XGBRegressor         singletask_reg_XGBRegressor   \n...                           ...                                 ...   \n1435                 XGBRegressor         singletask_reg_XGBRegressor   \n1436  MedianDistributionAlgorithm               singletask_reg_Random   \n1437  MedianDistributionAlgorithm               singletask_reg_Random   \n1438          KNeighborsRegressor  singletask_reg_KNeighborsRegressor   \n1439          KNeighborsRegressor  singletask_reg_KNeighborsRegressor   \n\n                                AlgorithmParams                  ReplicaID  \\\n0                                           NaN  singletask_reg_2746317213   \n1                                           NaN  singletask_reg_2746317213   \n2                                           NaN   singletask_reg_478163327   \n3                                           NaN   singletask_reg_478163327   \n4      {\"n_jobs\": 1, \"random_state\": 107420369}   singletask_reg_107420369   \n...                                         ...                        ...   \n1435  {\"n_jobs\": 1, \"random_state\": 1484714820}  singletask_reg_1484714820   \n1436                                        NaN  singletask_reg_2562254028   \n1437                                        NaN  singletask_reg_2562254028   \n1438                                        NaN  singletask_reg_1866437132   \n1439                                        NaN  singletask_reg_1866437132   \n\n              DataSet                                        ReplicaFile  \\\n0     P30542_MorganFP  /home/sichom/projects/qsp-bench/data/singletas...   \n1     P30542_MorganFP  /home/sichom/projects/qsp-bench/data/singletas...   \n2     P30542_MorganFP  /home/sichom/projects/qsp-bench/data/singletas...   \n3     P30542_MorganFP  /home/sichom/projects/qsp-bench/data/singletas...   \n4     P30542_MorganFP  /home/sichom/projects/qsp-bench/data/singletas...   \n...               ...                                                ...   \n1435  P0DMS8_MorganFP  /home/sichom/projects/qsp-bench/data/singletas...   \n1436  P0DMS8_MorganFP  /home/sichom/projects/qsp-bench/data/singletas...   \n1437  P0DMS8_MorganFP  /home/sichom/projects/qsp-bench/data/singletas...   \n1438  P0DMS8_MorganFP  /home/sichom/projects/qsp-bench/data/singletas...   \n1439  P0DMS8_MorganFP  /home/sichom/projects/qsp-bench/data/singletas...   \n\n                Name  \n0     singletask_reg  \n1     singletask_reg  \n2     singletask_reg  \n3     singletask_reg  \n4     singletask_reg  \n...              ...  \n1435  singletask_reg  \n1436  singletask_reg  \n1437  singletask_reg  \n1438  singletask_reg  \n1439  singletask_reg  \n\n[1440 rows x 13 columns]",
      "text/html": "<div>\n<style scoped>\n    .dataframe tbody tr th:only-of-type {\n        vertical-align: middle;\n    }\n\n    .dataframe tbody tr th {\n        vertical-align: top;\n    }\n\n    .dataframe thead th {\n        text-align: right;\n    }\n</style>\n<table border=\"1\" class=\"dataframe\">\n  <thead>\n    <tr style=\"text-align: right;\">\n      <th></th>\n      <th>Assessor</th>\n      <th>ScoreFunc</th>\n      <th>Score</th>\n      <th>TargetProperty</th>\n      <th>TargetTask</th>\n      <th>ModelFile</th>\n      <th>Algorithm</th>\n      <th>ModelName</th>\n      <th>AlgorithmParams</th>\n      <th>ReplicaID</th>\n      <th>DataSet</th>\n      <th>ReplicaFile</th>\n      <th>Name</th>\n    </tr>\n  </thead>\n  <tbody>\n    <tr>\n      <th>0</th>\n      <td>TestSetAssessor</td>\n      <td>r2_score</td>\n      <td>-0.003450</td>\n      <td>P30542</td>\n      <td>REGRESSION</td>\n      <td>/home/sichom/projects/qsp-bench/data/singletas...</td>\n      <td>MedianDistributionAlgorithm</td>\n      <td>singletask_reg_Random</td>\n      <td>NaN</td>\n      <td>singletask_reg_2746317213</td>\n      <td>P30542_MorganFP</td>\n      <td>/home/sichom/projects/qsp-bench/data/singletas...</td>\n      <td>singletask_reg</td>\n    </tr>\n    <tr>\n      <th>1</th>\n      <td>TestSetAssessor</td>\n      <td>root_mean_squared_error</td>\n      <td>0.991452</td>\n      <td>P30542</td>\n      <td>REGRESSION</td>\n      <td>/home/sichom/projects/qsp-bench/data/singletas...</td>\n      <td>MedianDistributionAlgorithm</td>\n      <td>singletask_reg_Random</td>\n      <td>NaN</td>\n      <td>singletask_reg_2746317213</td>\n      <td>P30542_MorganFP</td>\n      <td>/home/sichom/projects/qsp-bench/data/singletas...</td>\n      <td>singletask_reg</td>\n    </tr>\n    <tr>\n      <th>2</th>\n      <td>TestSetAssessor</td>\n      <td>r2_score</td>\n      <td>0.493858</td>\n      <td>P30542</td>\n      <td>REGRESSION</td>\n      <td>/home/sichom/projects/qsp-bench/data/singletas...</td>\n      <td>KNeighborsRegressor</td>\n      <td>singletask_reg_KNeighborsRegressor</td>\n      <td>NaN</td>\n      <td>singletask_reg_478163327</td>\n      <td>P30542_MorganFP</td>\n      <td>/home/sichom/projects/qsp-bench/data/singletas...</td>\n      <td>singletask_reg</td>\n    </tr>\n    <tr>\n      <th>3</th>\n      <td>TestSetAssessor</td>\n      <td>root_mean_squared_error</td>\n      <td>0.705991</td>\n      <td>P30542</td>\n      <td>REGRESSION</td>\n      <td>/home/sichom/projects/qsp-bench/data/singletas...</td>\n      <td>KNeighborsRegressor</td>\n      <td>singletask_reg_KNeighborsRegressor</td>\n      <td>NaN</td>\n      <td>singletask_reg_478163327</td>\n      <td>P30542_MorganFP</td>\n      <td>/home/sichom/projects/qsp-bench/data/singletas...</td>\n      <td>singletask_reg</td>\n    </tr>\n    <tr>\n      <th>4</th>\n      <td>TestSetAssessor</td>\n      <td>r2_score</td>\n      <td>0.556219</td>\n      <td>P30542</td>\n      <td>REGRESSION</td>\n      <td>/home/sichom/projects/qsp-bench/data/singletas...</td>\n      <td>XGBRegressor</td>\n      <td>singletask_reg_XGBRegressor</td>\n      <td>{\"n_jobs\": 1, \"random_state\": 107420369}</td>\n      <td>singletask_reg_107420369</td>\n      <td>P30542_MorganFP</td>\n      <td>/home/sichom/projects/qsp-bench/data/singletas...</td>\n      <td>singletask_reg</td>\n    </tr>\n    <tr>\n      <th>...</th>\n      <td>...</td>\n      <td>...</td>\n      <td>...</td>\n      <td>...</td>\n      <td>...</td>\n      <td>...</td>\n      <td>...</td>\n      <td>...</td>\n      <td>...</td>\n      <td>...</td>\n      <td>...</td>\n      <td>...</td>\n      <td>...</td>\n    </tr>\n    <tr>\n      <th>1435</th>\n      <td>TestSetAssessor</td>\n      <td>root_mean_squared_error</td>\n      <td>0.906257</td>\n      <td>P0DMS8</td>\n      <td>REGRESSION</td>\n      <td>/home/sichom/projects/qsp-bench/data/singletas...</td>\n      <td>XGBRegressor</td>\n      <td>singletask_reg_XGBRegressor</td>\n      <td>{\"n_jobs\": 1, \"random_state\": 1484714820}</td>\n      <td>singletask_reg_1484714820</td>\n      <td>P0DMS8_MorganFP</td>\n      <td>/home/sichom/projects/qsp-bench/data/singletas...</td>\n      <td>singletask_reg</td>\n    </tr>\n    <tr>\n      <th>1436</th>\n      <td>TestSetAssessor</td>\n      <td>r2_score</td>\n      <td>-0.000021</td>\n      <td>P0DMS8</td>\n      <td>REGRESSION</td>\n      <td>/home/sichom/projects/qsp-bench/data/singletas...</td>\n      <td>MedianDistributionAlgorithm</td>\n      <td>singletask_reg_Random</td>\n      <td>NaN</td>\n      <td>singletask_reg_2562254028</td>\n      <td>P0DMS8_MorganFP</td>\n      <td>/home/sichom/projects/qsp-bench/data/singletas...</td>\n      <td>singletask_reg</td>\n    </tr>\n    <tr>\n      <th>1437</th>\n      <td>TestSetAssessor</td>\n      <td>root_mean_squared_error</td>\n      <td>1.175569</td>\n      <td>P0DMS8</td>\n      <td>REGRESSION</td>\n      <td>/home/sichom/projects/qsp-bench/data/singletas...</td>\n      <td>MedianDistributionAlgorithm</td>\n      <td>singletask_reg_Random</td>\n      <td>NaN</td>\n      <td>singletask_reg_2562254028</td>\n      <td>P0DMS8_MorganFP</td>\n      <td>/home/sichom/projects/qsp-bench/data/singletas...</td>\n      <td>singletask_reg</td>\n    </tr>\n    <tr>\n      <th>1438</th>\n      <td>TestSetAssessor</td>\n      <td>r2_score</td>\n      <td>0.560002</td>\n      <td>P0DMS8</td>\n      <td>REGRESSION</td>\n      <td>/home/sichom/projects/qsp-bench/data/singletas...</td>\n      <td>KNeighborsRegressor</td>\n      <td>singletask_reg_KNeighborsRegressor</td>\n      <td>NaN</td>\n      <td>singletask_reg_1866437132</td>\n      <td>P0DMS8_MorganFP</td>\n      <td>/home/sichom/projects/qsp-bench/data/singletas...</td>\n      <td>singletask_reg</td>\n    </tr>\n    <tr>\n      <th>1439</th>\n      <td>TestSetAssessor</td>\n      <td>root_mean_squared_error</td>\n      <td>0.782597</td>\n      <td>P0DMS8</td>\n      <td>REGRESSION</td>\n      <td>/home/sichom/projects/qsp-bench/data/singletas...</td>\n      <td>KNeighborsRegressor</td>\n      <td>singletask_reg_KNeighborsRegressor</td>\n      <td>NaN</td>\n      <td>singletask_reg_1866437132</td>\n      <td>P0DMS8_MorganFP</td>\n      <td>/home/sichom/projects/qsp-bench/data/singletas...</td>\n      <td>singletask_reg</td>\n    </tr>\n  </tbody>\n</table>\n<p>1440 rows × 13 columns</p>\n</div>"
     },
     "execution_count": 19,
     "metadata": {},
     "output_type": "execute_result"
    }
   ],
   "source": [
    "df_singletask[\"TargetProperty\"] = df_singletask.DataSet.apply(lambda x: x.split(\"_\")[0])\n",
    "df_singletask"
   ]
  },
  {
   "cell_type": "code",
   "execution_count": 20,
   "id": "4f4e01a86a417819",
   "metadata": {
    "collapsed": false,
    "ExecuteTime": {
     "end_time": "2024-02-08T11:20:05.511549402Z",
     "start_time": "2024-02-08T11:20:05.431750357Z"
    }
   },
   "outputs": [
    {
     "data": {
      "text/plain": "             Assessor                ScoreFunc     Score TargetProperty  \\\n0     TestSetAssessor                 r2_score -0.003450         P30542   \n1     TestSetAssessor  root_mean_squared_error  0.991452         P30542   \n2     TestSetAssessor                 r2_score  0.493858         P30542   \n3     TestSetAssessor  root_mean_squared_error  0.705991         P30542   \n4     TestSetAssessor                 r2_score  0.556219         P30542   \n...               ...                      ...       ...            ...   \n1915  TestSetAssessor                 r2_score -0.009536         P30542   \n1916  TestSetAssessor  root_mean_squared_error  0.799643         P0DMS8   \n1917  TestSetAssessor  root_mean_squared_error  0.908508         P29274   \n1918  TestSetAssessor  root_mean_squared_error  0.525491         P29275   \n1919  TestSetAssessor  root_mean_squared_error  0.751848         P30542   \n\n      TargetTask                                          ModelFile  \\\n0     REGRESSION  /home/sichom/projects/qsp-bench/data/singletas...   \n1     REGRESSION  /home/sichom/projects/qsp-bench/data/singletas...   \n2     REGRESSION  /home/sichom/projects/qsp-bench/data/singletas...   \n3     REGRESSION  /home/sichom/projects/qsp-bench/data/singletas...   \n4     REGRESSION  /home/sichom/projects/qsp-bench/data/singletas...   \n...          ...                                                ...   \n1915  REGRESSION  /home/sichom/projects/qsp-bench/data/multitask...   \n1916  REGRESSION  /home/sichom/projects/qsp-bench/data/multitask...   \n1917  REGRESSION  /home/sichom/projects/qsp-bench/data/multitask...   \n1918  REGRESSION  /home/sichom/projects/qsp-bench/data/multitask...   \n1919  REGRESSION  /home/sichom/projects/qsp-bench/data/multitask...   \n\n                        Algorithm                           ModelName  \\\n0     MedianDistributionAlgorithm               singletask_reg_Random   \n1     MedianDistributionAlgorithm               singletask_reg_Random   \n2             KNeighborsRegressor  singletask_reg_KNeighborsRegressor   \n3             KNeighborsRegressor  singletask_reg_KNeighborsRegressor   \n4                    XGBRegressor         singletask_reg_XGBRegressor   \n...                           ...                                 ...   \n1915  MedianDistributionAlgorithm           multitask_reg_MedianModel   \n1916  MedianDistributionAlgorithm           multitask_reg_MedianModel   \n1917  MedianDistributionAlgorithm           multitask_reg_MedianModel   \n1918  MedianDistributionAlgorithm           multitask_reg_MedianModel   \n1919  MedianDistributionAlgorithm           multitask_reg_MedianModel   \n\n                               AlgorithmParams                  ReplicaID  \\\n0                                          NaN  singletask_reg_2746317213   \n1                                          NaN  singletask_reg_2746317213   \n2                                          NaN   singletask_reg_478163327   \n3                                          NaN   singletask_reg_478163327   \n4     {\"n_jobs\": 1, \"random_state\": 107420369}   singletask_reg_107420369   \n...                                        ...                        ...   \n1915                                       NaN   multitask_reg_1605947756   \n1916                                       NaN   multitask_reg_1605947756   \n1917                                       NaN   multitask_reg_1605947756   \n1918                                       NaN   multitask_reg_1605947756   \n1919                                       NaN   multitask_reg_1605947756   \n\n                                   DataSet  \\\n0                          P30542_MorganFP   \n1                          P30542_MorganFP   \n2                          P30542_MorganFP   \n3                          P30542_MorganFP   \n4                          P30542_MorganFP   \n...                                    ...   \n1915  P0DMS8_P29274_P29275_P30542_MorganFP   \n1916  P0DMS8_P29274_P29275_P30542_MorganFP   \n1917  P0DMS8_P29274_P29275_P30542_MorganFP   \n1918  P0DMS8_P29274_P29275_P30542_MorganFP   \n1919  P0DMS8_P29274_P29275_P30542_MorganFP   \n\n                                            ReplicaFile            Name  \n0     /home/sichom/projects/qsp-bench/data/singletas...  singletask_reg  \n1     /home/sichom/projects/qsp-bench/data/singletas...  singletask_reg  \n2     /home/sichom/projects/qsp-bench/data/singletas...  singletask_reg  \n3     /home/sichom/projects/qsp-bench/data/singletas...  singletask_reg  \n4     /home/sichom/projects/qsp-bench/data/singletas...  singletask_reg  \n...                                                 ...             ...  \n1915  /home/sichom/projects/qsp-bench/data/multitask...   multitask_reg  \n1916  /home/sichom/projects/qsp-bench/data/multitask...   multitask_reg  \n1917  /home/sichom/projects/qsp-bench/data/multitask...   multitask_reg  \n1918  /home/sichom/projects/qsp-bench/data/multitask...   multitask_reg  \n1919  /home/sichom/projects/qsp-bench/data/multitask...   multitask_reg  \n\n[3360 rows x 13 columns]",
      "text/html": "<div>\n<style scoped>\n    .dataframe tbody tr th:only-of-type {\n        vertical-align: middle;\n    }\n\n    .dataframe tbody tr th {\n        vertical-align: top;\n    }\n\n    .dataframe thead th {\n        text-align: right;\n    }\n</style>\n<table border=\"1\" class=\"dataframe\">\n  <thead>\n    <tr style=\"text-align: right;\">\n      <th></th>\n      <th>Assessor</th>\n      <th>ScoreFunc</th>\n      <th>Score</th>\n      <th>TargetProperty</th>\n      <th>TargetTask</th>\n      <th>ModelFile</th>\n      <th>Algorithm</th>\n      <th>ModelName</th>\n      <th>AlgorithmParams</th>\n      <th>ReplicaID</th>\n      <th>DataSet</th>\n      <th>ReplicaFile</th>\n      <th>Name</th>\n    </tr>\n  </thead>\n  <tbody>\n    <tr>\n      <th>0</th>\n      <td>TestSetAssessor</td>\n      <td>r2_score</td>\n      <td>-0.003450</td>\n      <td>P30542</td>\n      <td>REGRESSION</td>\n      <td>/home/sichom/projects/qsp-bench/data/singletas...</td>\n      <td>MedianDistributionAlgorithm</td>\n      <td>singletask_reg_Random</td>\n      <td>NaN</td>\n      <td>singletask_reg_2746317213</td>\n      <td>P30542_MorganFP</td>\n      <td>/home/sichom/projects/qsp-bench/data/singletas...</td>\n      <td>singletask_reg</td>\n    </tr>\n    <tr>\n      <th>1</th>\n      <td>TestSetAssessor</td>\n      <td>root_mean_squared_error</td>\n      <td>0.991452</td>\n      <td>P30542</td>\n      <td>REGRESSION</td>\n      <td>/home/sichom/projects/qsp-bench/data/singletas...</td>\n      <td>MedianDistributionAlgorithm</td>\n      <td>singletask_reg_Random</td>\n      <td>NaN</td>\n      <td>singletask_reg_2746317213</td>\n      <td>P30542_MorganFP</td>\n      <td>/home/sichom/projects/qsp-bench/data/singletas...</td>\n      <td>singletask_reg</td>\n    </tr>\n    <tr>\n      <th>2</th>\n      <td>TestSetAssessor</td>\n      <td>r2_score</td>\n      <td>0.493858</td>\n      <td>P30542</td>\n      <td>REGRESSION</td>\n      <td>/home/sichom/projects/qsp-bench/data/singletas...</td>\n      <td>KNeighborsRegressor</td>\n      <td>singletask_reg_KNeighborsRegressor</td>\n      <td>NaN</td>\n      <td>singletask_reg_478163327</td>\n      <td>P30542_MorganFP</td>\n      <td>/home/sichom/projects/qsp-bench/data/singletas...</td>\n      <td>singletask_reg</td>\n    </tr>\n    <tr>\n      <th>3</th>\n      <td>TestSetAssessor</td>\n      <td>root_mean_squared_error</td>\n      <td>0.705991</td>\n      <td>P30542</td>\n      <td>REGRESSION</td>\n      <td>/home/sichom/projects/qsp-bench/data/singletas...</td>\n      <td>KNeighborsRegressor</td>\n      <td>singletask_reg_KNeighborsRegressor</td>\n      <td>NaN</td>\n      <td>singletask_reg_478163327</td>\n      <td>P30542_MorganFP</td>\n      <td>/home/sichom/projects/qsp-bench/data/singletas...</td>\n      <td>singletask_reg</td>\n    </tr>\n    <tr>\n      <th>4</th>\n      <td>TestSetAssessor</td>\n      <td>r2_score</td>\n      <td>0.556219</td>\n      <td>P30542</td>\n      <td>REGRESSION</td>\n      <td>/home/sichom/projects/qsp-bench/data/singletas...</td>\n      <td>XGBRegressor</td>\n      <td>singletask_reg_XGBRegressor</td>\n      <td>{\"n_jobs\": 1, \"random_state\": 107420369}</td>\n      <td>singletask_reg_107420369</td>\n      <td>P30542_MorganFP</td>\n      <td>/home/sichom/projects/qsp-bench/data/singletas...</td>\n      <td>singletask_reg</td>\n    </tr>\n    <tr>\n      <th>...</th>\n      <td>...</td>\n      <td>...</td>\n      <td>...</td>\n      <td>...</td>\n      <td>...</td>\n      <td>...</td>\n      <td>...</td>\n      <td>...</td>\n      <td>...</td>\n      <td>...</td>\n      <td>...</td>\n      <td>...</td>\n      <td>...</td>\n    </tr>\n    <tr>\n      <th>1915</th>\n      <td>TestSetAssessor</td>\n      <td>r2_score</td>\n      <td>-0.009536</td>\n      <td>P30542</td>\n      <td>REGRESSION</td>\n      <td>/home/sichom/projects/qsp-bench/data/multitask...</td>\n      <td>MedianDistributionAlgorithm</td>\n      <td>multitask_reg_MedianModel</td>\n      <td>NaN</td>\n      <td>multitask_reg_1605947756</td>\n      <td>P0DMS8_P29274_P29275_P30542_MorganFP</td>\n      <td>/home/sichom/projects/qsp-bench/data/multitask...</td>\n      <td>multitask_reg</td>\n    </tr>\n    <tr>\n      <th>1916</th>\n      <td>TestSetAssessor</td>\n      <td>root_mean_squared_error</td>\n      <td>0.799643</td>\n      <td>P0DMS8</td>\n      <td>REGRESSION</td>\n      <td>/home/sichom/projects/qsp-bench/data/multitask...</td>\n      <td>MedianDistributionAlgorithm</td>\n      <td>multitask_reg_MedianModel</td>\n      <td>NaN</td>\n      <td>multitask_reg_1605947756</td>\n      <td>P0DMS8_P29274_P29275_P30542_MorganFP</td>\n      <td>/home/sichom/projects/qsp-bench/data/multitask...</td>\n      <td>multitask_reg</td>\n    </tr>\n    <tr>\n      <th>1917</th>\n      <td>TestSetAssessor</td>\n      <td>root_mean_squared_error</td>\n      <td>0.908508</td>\n      <td>P29274</td>\n      <td>REGRESSION</td>\n      <td>/home/sichom/projects/qsp-bench/data/multitask...</td>\n      <td>MedianDistributionAlgorithm</td>\n      <td>multitask_reg_MedianModel</td>\n      <td>NaN</td>\n      <td>multitask_reg_1605947756</td>\n      <td>P0DMS8_P29274_P29275_P30542_MorganFP</td>\n      <td>/home/sichom/projects/qsp-bench/data/multitask...</td>\n      <td>multitask_reg</td>\n    </tr>\n    <tr>\n      <th>1918</th>\n      <td>TestSetAssessor</td>\n      <td>root_mean_squared_error</td>\n      <td>0.525491</td>\n      <td>P29275</td>\n      <td>REGRESSION</td>\n      <td>/home/sichom/projects/qsp-bench/data/multitask...</td>\n      <td>MedianDistributionAlgorithm</td>\n      <td>multitask_reg_MedianModel</td>\n      <td>NaN</td>\n      <td>multitask_reg_1605947756</td>\n      <td>P0DMS8_P29274_P29275_P30542_MorganFP</td>\n      <td>/home/sichom/projects/qsp-bench/data/multitask...</td>\n      <td>multitask_reg</td>\n    </tr>\n    <tr>\n      <th>1919</th>\n      <td>TestSetAssessor</td>\n      <td>root_mean_squared_error</td>\n      <td>0.751848</td>\n      <td>P30542</td>\n      <td>REGRESSION</td>\n      <td>/home/sichom/projects/qsp-bench/data/multitask...</td>\n      <td>MedianDistributionAlgorithm</td>\n      <td>multitask_reg_MedianModel</td>\n      <td>NaN</td>\n      <td>multitask_reg_1605947756</td>\n      <td>P0DMS8_P29274_P29275_P30542_MorganFP</td>\n      <td>/home/sichom/projects/qsp-bench/data/multitask...</td>\n      <td>multitask_reg</td>\n    </tr>\n  </tbody>\n</table>\n<p>3360 rows × 13 columns</p>\n</div>"
     },
     "execution_count": 20,
     "metadata": {},
     "output_type": "execute_result"
    }
   ],
   "source": [
    "df_all = pd.concat([df_singletask,  df_multitask])\n",
    "df_all"
   ]
  },
  {
   "cell_type": "code",
   "execution_count": 21,
   "id": "487c551fa6af5445",
   "metadata": {
    "collapsed": false,
    "ExecuteTime": {
     "end_time": "2024-02-08T11:20:42.550373913Z",
     "start_time": "2024-02-08T11:20:05.477598773Z"
    }
   },
   "outputs": [
    {
     "data": {
      "text/plain": "             Assessor                ScoreFunc     Score TargetProperty  \\\n0     TestSetAssessor                 r2_score -0.003450         P30542   \n1     TestSetAssessor  root_mean_squared_error  0.991452         P30542   \n2     TestSetAssessor                 r2_score  0.493858         P30542   \n3     TestSetAssessor  root_mean_squared_error  0.705991         P30542   \n4     TestSetAssessor                 r2_score  0.556219         P30542   \n...               ...                      ...       ...            ...   \n1915  TestSetAssessor                 r2_score -0.009536         P30542   \n1916  TestSetAssessor  root_mean_squared_error  0.799643         P0DMS8   \n1917  TestSetAssessor  root_mean_squared_error  0.908508         P29274   \n1918  TestSetAssessor  root_mean_squared_error  0.525491         P29275   \n1919  TestSetAssessor  root_mean_squared_error  0.751848         P30542   \n\n      TargetTask                                          ModelFile  \\\n0     REGRESSION  /home/sichom/projects/qsp-bench/data/singletas...   \n1     REGRESSION  /home/sichom/projects/qsp-bench/data/singletas...   \n2     REGRESSION  /home/sichom/projects/qsp-bench/data/singletas...   \n3     REGRESSION  /home/sichom/projects/qsp-bench/data/singletas...   \n4     REGRESSION  /home/sichom/projects/qsp-bench/data/singletas...   \n...          ...                                                ...   \n1915  REGRESSION  /home/sichom/projects/qsp-bench/data/multitask...   \n1916  REGRESSION  /home/sichom/projects/qsp-bench/data/multitask...   \n1917  REGRESSION  /home/sichom/projects/qsp-bench/data/multitask...   \n1918  REGRESSION  /home/sichom/projects/qsp-bench/data/multitask...   \n1919  REGRESSION  /home/sichom/projects/qsp-bench/data/multitask...   \n\n                        Algorithm                           ModelName  \\\n0     MedianDistributionAlgorithm               singletask_reg_Random   \n1     MedianDistributionAlgorithm               singletask_reg_Random   \n2             KNeighborsRegressor  singletask_reg_KNeighborsRegressor   \n3             KNeighborsRegressor  singletask_reg_KNeighborsRegressor   \n4                    XGBRegressor         singletask_reg_XGBRegressor   \n...                           ...                                 ...   \n1915  MedianDistributionAlgorithm           multitask_reg_MedianModel   \n1916  MedianDistributionAlgorithm           multitask_reg_MedianModel   \n1917  MedianDistributionAlgorithm           multitask_reg_MedianModel   \n1918  MedianDistributionAlgorithm           multitask_reg_MedianModel   \n1919  MedianDistributionAlgorithm           multitask_reg_MedianModel   \n\n                               AlgorithmParams                  ReplicaID  \\\n0                                          NaN  singletask_reg_2746317213   \n1                                          NaN  singletask_reg_2746317213   \n2                                          NaN   singletask_reg_478163327   \n3                                          NaN   singletask_reg_478163327   \n4     {\"n_jobs\": 1, \"random_state\": 107420369}   singletask_reg_107420369   \n...                                        ...                        ...   \n1915                                       NaN   multitask_reg_1605947756   \n1916                                       NaN   multitask_reg_1605947756   \n1917                                       NaN   multitask_reg_1605947756   \n1918                                       NaN   multitask_reg_1605947756   \n1919                                       NaN   multitask_reg_1605947756   \n\n                                   DataSet  \\\n0                          P30542_MorganFP   \n1                          P30542_MorganFP   \n2                          P30542_MorganFP   \n3                          P30542_MorganFP   \n4                          P30542_MorganFP   \n...                                    ...   \n1915  P0DMS8_P29274_P29275_P30542_MorganFP   \n1916  P0DMS8_P29274_P29275_P30542_MorganFP   \n1917  P0DMS8_P29274_P29275_P30542_MorganFP   \n1918  P0DMS8_P29274_P29275_P30542_MorganFP   \n1919  P0DMS8_P29274_P29275_P30542_MorganFP   \n\n                                            ReplicaFile            Name  \\\n0     /home/sichom/projects/qsp-bench/data/singletas...  singletask_reg   \n1     /home/sichom/projects/qsp-bench/data/singletas...  singletask_reg   \n2     /home/sichom/projects/qsp-bench/data/singletas...  singletask_reg   \n3     /home/sichom/projects/qsp-bench/data/singletas...  singletask_reg   \n4     /home/sichom/projects/qsp-bench/data/singletas...  singletask_reg   \n...                                                 ...             ...   \n1915  /home/sichom/projects/qsp-bench/data/multitask...   multitask_reg   \n1916  /home/sichom/projects/qsp-bench/data/multitask...   multitask_reg   \n1917  /home/sichom/projects/qsp-bench/data/multitask...   multitask_reg   \n1918  /home/sichom/projects/qsp-bench/data/multitask...   multitask_reg   \n1919  /home/sichom/projects/qsp-bench/data/multitask...   multitask_reg   \n\n             Split  \n0      RandomSplit  \n1      RandomSplit  \n2      RandomSplit  \n3      RandomSplit  \n4      RandomSplit  \n...            ...  \n1915  ClusterSplit  \n1916  ClusterSplit  \n1917  ClusterSplit  \n1918  ClusterSplit  \n1919  ClusterSplit  \n\n[3360 rows x 14 columns]",
      "text/html": "<div>\n<style scoped>\n    .dataframe tbody tr th:only-of-type {\n        vertical-align: middle;\n    }\n\n    .dataframe tbody tr th {\n        vertical-align: top;\n    }\n\n    .dataframe thead th {\n        text-align: right;\n    }\n</style>\n<table border=\"1\" class=\"dataframe\">\n  <thead>\n    <tr style=\"text-align: right;\">\n      <th></th>\n      <th>Assessor</th>\n      <th>ScoreFunc</th>\n      <th>Score</th>\n      <th>TargetProperty</th>\n      <th>TargetTask</th>\n      <th>ModelFile</th>\n      <th>Algorithm</th>\n      <th>ModelName</th>\n      <th>AlgorithmParams</th>\n      <th>ReplicaID</th>\n      <th>DataSet</th>\n      <th>ReplicaFile</th>\n      <th>Name</th>\n      <th>Split</th>\n    </tr>\n  </thead>\n  <tbody>\n    <tr>\n      <th>0</th>\n      <td>TestSetAssessor</td>\n      <td>r2_score</td>\n      <td>-0.003450</td>\n      <td>P30542</td>\n      <td>REGRESSION</td>\n      <td>/home/sichom/projects/qsp-bench/data/singletas...</td>\n      <td>MedianDistributionAlgorithm</td>\n      <td>singletask_reg_Random</td>\n      <td>NaN</td>\n      <td>singletask_reg_2746317213</td>\n      <td>P30542_MorganFP</td>\n      <td>/home/sichom/projects/qsp-bench/data/singletas...</td>\n      <td>singletask_reg</td>\n      <td>RandomSplit</td>\n    </tr>\n    <tr>\n      <th>1</th>\n      <td>TestSetAssessor</td>\n      <td>root_mean_squared_error</td>\n      <td>0.991452</td>\n      <td>P30542</td>\n      <td>REGRESSION</td>\n      <td>/home/sichom/projects/qsp-bench/data/singletas...</td>\n      <td>MedianDistributionAlgorithm</td>\n      <td>singletask_reg_Random</td>\n      <td>NaN</td>\n      <td>singletask_reg_2746317213</td>\n      <td>P30542_MorganFP</td>\n      <td>/home/sichom/projects/qsp-bench/data/singletas...</td>\n      <td>singletask_reg</td>\n      <td>RandomSplit</td>\n    </tr>\n    <tr>\n      <th>2</th>\n      <td>TestSetAssessor</td>\n      <td>r2_score</td>\n      <td>0.493858</td>\n      <td>P30542</td>\n      <td>REGRESSION</td>\n      <td>/home/sichom/projects/qsp-bench/data/singletas...</td>\n      <td>KNeighborsRegressor</td>\n      <td>singletask_reg_KNeighborsRegressor</td>\n      <td>NaN</td>\n      <td>singletask_reg_478163327</td>\n      <td>P30542_MorganFP</td>\n      <td>/home/sichom/projects/qsp-bench/data/singletas...</td>\n      <td>singletask_reg</td>\n      <td>RandomSplit</td>\n    </tr>\n    <tr>\n      <th>3</th>\n      <td>TestSetAssessor</td>\n      <td>root_mean_squared_error</td>\n      <td>0.705991</td>\n      <td>P30542</td>\n      <td>REGRESSION</td>\n      <td>/home/sichom/projects/qsp-bench/data/singletas...</td>\n      <td>KNeighborsRegressor</td>\n      <td>singletask_reg_KNeighborsRegressor</td>\n      <td>NaN</td>\n      <td>singletask_reg_478163327</td>\n      <td>P30542_MorganFP</td>\n      <td>/home/sichom/projects/qsp-bench/data/singletas...</td>\n      <td>singletask_reg</td>\n      <td>RandomSplit</td>\n    </tr>\n    <tr>\n      <th>4</th>\n      <td>TestSetAssessor</td>\n      <td>r2_score</td>\n      <td>0.556219</td>\n      <td>P30542</td>\n      <td>REGRESSION</td>\n      <td>/home/sichom/projects/qsp-bench/data/singletas...</td>\n      <td>XGBRegressor</td>\n      <td>singletask_reg_XGBRegressor</td>\n      <td>{\"n_jobs\": 1, \"random_state\": 107420369}</td>\n      <td>singletask_reg_107420369</td>\n      <td>P30542_MorganFP</td>\n      <td>/home/sichom/projects/qsp-bench/data/singletas...</td>\n      <td>singletask_reg</td>\n      <td>RandomSplit</td>\n    </tr>\n    <tr>\n      <th>...</th>\n      <td>...</td>\n      <td>...</td>\n      <td>...</td>\n      <td>...</td>\n      <td>...</td>\n      <td>...</td>\n      <td>...</td>\n      <td>...</td>\n      <td>...</td>\n      <td>...</td>\n      <td>...</td>\n      <td>...</td>\n      <td>...</td>\n      <td>...</td>\n    </tr>\n    <tr>\n      <th>1915</th>\n      <td>TestSetAssessor</td>\n      <td>r2_score</td>\n      <td>-0.009536</td>\n      <td>P30542</td>\n      <td>REGRESSION</td>\n      <td>/home/sichom/projects/qsp-bench/data/multitask...</td>\n      <td>MedianDistributionAlgorithm</td>\n      <td>multitask_reg_MedianModel</td>\n      <td>NaN</td>\n      <td>multitask_reg_1605947756</td>\n      <td>P0DMS8_P29274_P29275_P30542_MorganFP</td>\n      <td>/home/sichom/projects/qsp-bench/data/multitask...</td>\n      <td>multitask_reg</td>\n      <td>ClusterSplit</td>\n    </tr>\n    <tr>\n      <th>1916</th>\n      <td>TestSetAssessor</td>\n      <td>root_mean_squared_error</td>\n      <td>0.799643</td>\n      <td>P0DMS8</td>\n      <td>REGRESSION</td>\n      <td>/home/sichom/projects/qsp-bench/data/multitask...</td>\n      <td>MedianDistributionAlgorithm</td>\n      <td>multitask_reg_MedianModel</td>\n      <td>NaN</td>\n      <td>multitask_reg_1605947756</td>\n      <td>P0DMS8_P29274_P29275_P30542_MorganFP</td>\n      <td>/home/sichom/projects/qsp-bench/data/multitask...</td>\n      <td>multitask_reg</td>\n      <td>ClusterSplit</td>\n    </tr>\n    <tr>\n      <th>1917</th>\n      <td>TestSetAssessor</td>\n      <td>root_mean_squared_error</td>\n      <td>0.908508</td>\n      <td>P29274</td>\n      <td>REGRESSION</td>\n      <td>/home/sichom/projects/qsp-bench/data/multitask...</td>\n      <td>MedianDistributionAlgorithm</td>\n      <td>multitask_reg_MedianModel</td>\n      <td>NaN</td>\n      <td>multitask_reg_1605947756</td>\n      <td>P0DMS8_P29274_P29275_P30542_MorganFP</td>\n      <td>/home/sichom/projects/qsp-bench/data/multitask...</td>\n      <td>multitask_reg</td>\n      <td>ClusterSplit</td>\n    </tr>\n    <tr>\n      <th>1918</th>\n      <td>TestSetAssessor</td>\n      <td>root_mean_squared_error</td>\n      <td>0.525491</td>\n      <td>P29275</td>\n      <td>REGRESSION</td>\n      <td>/home/sichom/projects/qsp-bench/data/multitask...</td>\n      <td>MedianDistributionAlgorithm</td>\n      <td>multitask_reg_MedianModel</td>\n      <td>NaN</td>\n      <td>multitask_reg_1605947756</td>\n      <td>P0DMS8_P29274_P29275_P30542_MorganFP</td>\n      <td>/home/sichom/projects/qsp-bench/data/multitask...</td>\n      <td>multitask_reg</td>\n      <td>ClusterSplit</td>\n    </tr>\n    <tr>\n      <th>1919</th>\n      <td>TestSetAssessor</td>\n      <td>root_mean_squared_error</td>\n      <td>0.751848</td>\n      <td>P30542</td>\n      <td>REGRESSION</td>\n      <td>/home/sichom/projects/qsp-bench/data/multitask...</td>\n      <td>MedianDistributionAlgorithm</td>\n      <td>multitask_reg_MedianModel</td>\n      <td>NaN</td>\n      <td>multitask_reg_1605947756</td>\n      <td>P0DMS8_P29274_P29275_P30542_MorganFP</td>\n      <td>/home/sichom/projects/qsp-bench/data/multitask...</td>\n      <td>multitask_reg</td>\n      <td>ClusterSplit</td>\n    </tr>\n  </tbody>\n</table>\n<p>3360 rows × 14 columns</p>\n</div>"
     },
     "execution_count": 21,
     "metadata": {},
     "output_type": "execute_result"
    }
   ],
   "source": [
    "from qsprpred.benchmarks import Replica\n",
    "\n",
    "\n",
    "def get_split(replica_file):\n",
    "    replica = Replica.fromFile(replica_file)\n",
    "    return replica.prepSettings.split.__class__.__name__\n",
    "\n",
    "df_all[\"Split\"] = df_all.ReplicaFile.apply(get_split)\n",
    "df_all"
   ]
  },
  {
   "cell_type": "code",
   "outputs": [],
   "source": [
    "df_all.ModelName  = df_all.ModelName.apply(lambda x: x.split(\"_\")[-1])"
   ],
   "metadata": {
    "collapsed": false,
    "ExecuteTime": {
     "end_time": "2024-02-08T11:20:42.550853627Z",
     "start_time": "2024-02-08T11:20:42.507329172Z"
    }
   },
   "id": "d1abe8a68a95280b",
   "execution_count": 22
  },
  {
   "cell_type": "code",
   "execution_count": 23,
   "id": "9ca2ed6330c92dcb",
   "metadata": {
    "collapsed": false,
    "ExecuteTime": {
     "end_time": "2024-02-08T11:20:44.196447129Z",
     "start_time": "2024-02-08T11:20:42.507629248Z"
    }
   },
   "outputs": [],
   "source": [
    "from utils.plotting import make_box_plot\n",
    "\n",
    "df_all.sort_values(by=[\"Name\", \"TargetProperty\", \"Algorithm\"], inplace=True)\n",
    "for split_name, df_split in df_all.groupby(\"Split\"):\n",
    "    make_box_plot(\n",
    "        df_split[df_split.Name == SINGLETASK_NAME],\n",
    "        x=\"TargetProperty\",\n",
    "        y=\"Score\",\n",
    "        hue=\"ModelName\",\n",
    "        plot_name=f\"{SINGLETASK_NAME}_{split_name}\",\n",
    "        ylim=(-0.5, 2)\n",
    "    )\n",
    "    make_box_plot(\n",
    "        df_split[df_split.Name == MULTITASK_NAME],\n",
    "        x=\"TargetProperty\",\n",
    "        y=\"Score\",\n",
    "        hue=\"ModelName\",\n",
    "        plot_name=f\"{MULTITASK_NAME}_{split_name}\",\n",
    "        ylim=(-0.5, 2)\n",
    "    )"
   ]
  },
  {
   "cell_type": "code",
   "outputs": [],
   "source": [],
   "metadata": {
    "collapsed": false,
    "ExecuteTime": {
     "end_time": "2024-02-08T11:20:44.240906191Z",
     "start_time": "2024-02-08T11:20:44.197783533Z"
    }
   },
   "id": "fec849e38ecf44fe",
   "execution_count": 23
  }
 ],
 "metadata": {
  "kernelspec": {
   "display_name": "Python 3 (ipykernel)",
   "language": "python",
   "name": "python3"
  },
  "language_info": {
   "codemirror_mode": {
    "name": "ipython",
    "version": 3
   },
   "file_extension": ".py",
   "mimetype": "text/x-python",
   "name": "python",
   "nbconvert_exporter": "python",
   "pygments_lexer": "ipython3",
   "version": "3.10.0"
  }
 },
 "nbformat": 4,
 "nbformat_minor": 5
}
