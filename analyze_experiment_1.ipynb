{
 "cells": [
  {
   "cell_type": "code",
   "execution_count": 8,
   "id": "initial_id",
   "metadata": {
    "collapsed": true,
    "ExecuteTime": {
     "end_time": "2023-12-18T23:36:04.904895201Z",
     "start_time": "2023-12-18T23:36:04.850757708Z"
    }
   },
   "outputs": [],
   "source": [
    "SINGLETASK_NAME = \"singletask_reg\"\n",
    "MULTITASK_NAME = \"multitask_reg\"\n",
    "SINGLETASK_RESULTS_DIR = f\"./data/{SINGLETASK_NAME}\"\n",
    "MULTITASK_RESULTS_DIR = f\"./data/{MULTITASK_NAME}\""
   ]
  },
  {
   "cell_type": "code",
   "execution_count": 9,
   "outputs": [],
   "source": [
    "import pandas as pd\n",
    "\n",
    "df_singletask = pd.read_table(f\"{SINGLETASK_RESULTS_DIR}/results.tsv\")\n",
    "df_singletask[\"Name\"] = SINGLETASK_NAME\n",
    "df_multitask = pd.read_table(f\"{MULTITASK_RESULTS_DIR}/results.tsv\")\n",
    "df_multitask[\"Name\"] = MULTITASK_NAME"
   ],
   "metadata": {
    "collapsed": false,
    "ExecuteTime": {
     "end_time": "2023-12-18T23:36:04.908786020Z",
     "start_time": "2023-12-18T23:36:04.897299714Z"
    }
   },
   "id": "db23234ed358f810"
  },
  {
   "cell_type": "code",
   "execution_count": 10,
   "outputs": [
    {
     "data": {
      "text/plain": "           Assessor           ScoreFunc     Score TargetProperty  TargetTask  \\\n0   TestSetAssessor            r2_score  0.497540         P30542  REGRESSION   \n1   TestSetAssessor  mean_squared_error -0.494798         P30542  REGRESSION   \n2   TestSetAssessor            r2_score  0.486050         P30542  REGRESSION   \n3   TestSetAssessor  mean_squared_error -0.500093         P30542  REGRESSION   \n4   TestSetAssessor            r2_score  0.206808         P30542  REGRESSION   \n..              ...                 ...       ...            ...         ...   \n91  TestSetAssessor  mean_squared_error -0.440295         P0DMS8  REGRESSION   \n92  TestSetAssessor            r2_score  0.650813         P0DMS8  REGRESSION   \n93  TestSetAssessor  mean_squared_error -0.478178         P0DMS8  REGRESSION   \n94  TestSetAssessor            r2_score  0.592846         P0DMS8  REGRESSION   \n95  TestSetAssessor  mean_squared_error -0.574803         P0DMS8  REGRESSION   \n\n                                            ModelFile            Algorithm  \\\n0   /home/sichom/projects/qsp-bench/data/singletas...  KNeighborsRegressor   \n1   /home/sichom/projects/qsp-bench/data/singletas...  KNeighborsRegressor   \n2   /home/sichom/projects/qsp-bench/data/singletas...  KNeighborsRegressor   \n3   /home/sichom/projects/qsp-bench/data/singletas...  KNeighborsRegressor   \n4   /home/sichom/projects/qsp-bench/data/singletas...  KNeighborsRegressor   \n..                                                ...                  ...   \n91  /home/sichom/projects/qsp-bench/data/singletas...     GradientBoosting   \n92  /home/sichom/projects/qsp-bench/data/singletas...     GradientBoosting   \n93  /home/sichom/projects/qsp-bench/data/singletas...     GradientBoosting   \n94  /home/sichom/projects/qsp-bench/data/singletas...     GradientBoosting   \n95  /home/sichom/projects/qsp-bench/data/singletas...     GradientBoosting   \n\n                                      AlgorithmParams  \\\n0                                                 NaN   \n1                                                 NaN   \n2                                                 NaN   \n3                                                 NaN   \n4                                                 NaN   \n..                                                ...   \n91  {\"loss\": \"mse\", \"metric\": \"r2_score\", \"ntrees\"...   \n92  {\"loss\": \"mse\", \"metric\": \"r2_score\", \"ntrees\"...   \n93  {\"loss\": \"mse\", \"metric\": \"r2_score\", \"ntrees\"...   \n94  {\"loss\": \"mse\", \"metric\": \"r2_score\", \"ntrees\"...   \n95  {\"loss\": \"mse\", \"metric\": \"r2_score\", \"ntrees\"...   \n\n                    ReplicaID                         DataSet  \\\n0    singletask_reg_478163327  P30542_FingerprintSet_MorganFP   \n1    singletask_reg_478163327  P30542_FingerprintSet_MorganFP   \n2   singletask_reg_3184935163  P30542_FingerprintSet_MorganFP   \n3   singletask_reg_3184935163  P30542_FingerprintSet_MorganFP   \n4   singletask_reg_1051802512  P30542_FingerprintSet_MorganFP   \n..                        ...                             ...   \n91  singletask_reg_2998485882  P0DMS8_FingerprintSet_MorganFP   \n92  singletask_reg_1461364854  P0DMS8_FingerprintSet_MorganFP   \n93  singletask_reg_1461364854  P0DMS8_FingerprintSet_MorganFP   \n94   singletask_reg_667779376  P0DMS8_FingerprintSet_MorganFP   \n95   singletask_reg_667779376  P0DMS8_FingerprintSet_MorganFP   \n\n                                          ReplicaFile            Name  \n0   /home/sichom/projects/qsp-bench/data/singletas...  singletask_reg  \n1   /home/sichom/projects/qsp-bench/data/singletas...  singletask_reg  \n2   /home/sichom/projects/qsp-bench/data/singletas...  singletask_reg  \n3   /home/sichom/projects/qsp-bench/data/singletas...  singletask_reg  \n4   /home/sichom/projects/qsp-bench/data/singletas...  singletask_reg  \n..                                                ...             ...  \n91  /home/sichom/projects/qsp-bench/data/singletas...  singletask_reg  \n92  /home/sichom/projects/qsp-bench/data/singletas...  singletask_reg  \n93  /home/sichom/projects/qsp-bench/data/singletas...  singletask_reg  \n94  /home/sichom/projects/qsp-bench/data/singletas...  singletask_reg  \n95  /home/sichom/projects/qsp-bench/data/singletas...  singletask_reg  \n\n[96 rows x 12 columns]",
      "text/html": "<div>\n<style scoped>\n    .dataframe tbody tr th:only-of-type {\n        vertical-align: middle;\n    }\n\n    .dataframe tbody tr th {\n        vertical-align: top;\n    }\n\n    .dataframe thead th {\n        text-align: right;\n    }\n</style>\n<table border=\"1\" class=\"dataframe\">\n  <thead>\n    <tr style=\"text-align: right;\">\n      <th></th>\n      <th>Assessor</th>\n      <th>ScoreFunc</th>\n      <th>Score</th>\n      <th>TargetProperty</th>\n      <th>TargetTask</th>\n      <th>ModelFile</th>\n      <th>Algorithm</th>\n      <th>AlgorithmParams</th>\n      <th>ReplicaID</th>\n      <th>DataSet</th>\n      <th>ReplicaFile</th>\n      <th>Name</th>\n    </tr>\n  </thead>\n  <tbody>\n    <tr>\n      <th>0</th>\n      <td>TestSetAssessor</td>\n      <td>r2_score</td>\n      <td>0.497540</td>\n      <td>P30542</td>\n      <td>REGRESSION</td>\n      <td>/home/sichom/projects/qsp-bench/data/singletas...</td>\n      <td>KNeighborsRegressor</td>\n      <td>NaN</td>\n      <td>singletask_reg_478163327</td>\n      <td>P30542_FingerprintSet_MorganFP</td>\n      <td>/home/sichom/projects/qsp-bench/data/singletas...</td>\n      <td>singletask_reg</td>\n    </tr>\n    <tr>\n      <th>1</th>\n      <td>TestSetAssessor</td>\n      <td>mean_squared_error</td>\n      <td>-0.494798</td>\n      <td>P30542</td>\n      <td>REGRESSION</td>\n      <td>/home/sichom/projects/qsp-bench/data/singletas...</td>\n      <td>KNeighborsRegressor</td>\n      <td>NaN</td>\n      <td>singletask_reg_478163327</td>\n      <td>P30542_FingerprintSet_MorganFP</td>\n      <td>/home/sichom/projects/qsp-bench/data/singletas...</td>\n      <td>singletask_reg</td>\n    </tr>\n    <tr>\n      <th>2</th>\n      <td>TestSetAssessor</td>\n      <td>r2_score</td>\n      <td>0.486050</td>\n      <td>P30542</td>\n      <td>REGRESSION</td>\n      <td>/home/sichom/projects/qsp-bench/data/singletas...</td>\n      <td>KNeighborsRegressor</td>\n      <td>NaN</td>\n      <td>singletask_reg_3184935163</td>\n      <td>P30542_FingerprintSet_MorganFP</td>\n      <td>/home/sichom/projects/qsp-bench/data/singletas...</td>\n      <td>singletask_reg</td>\n    </tr>\n    <tr>\n      <th>3</th>\n      <td>TestSetAssessor</td>\n      <td>mean_squared_error</td>\n      <td>-0.500093</td>\n      <td>P30542</td>\n      <td>REGRESSION</td>\n      <td>/home/sichom/projects/qsp-bench/data/singletas...</td>\n      <td>KNeighborsRegressor</td>\n      <td>NaN</td>\n      <td>singletask_reg_3184935163</td>\n      <td>P30542_FingerprintSet_MorganFP</td>\n      <td>/home/sichom/projects/qsp-bench/data/singletas...</td>\n      <td>singletask_reg</td>\n    </tr>\n    <tr>\n      <th>4</th>\n      <td>TestSetAssessor</td>\n      <td>r2_score</td>\n      <td>0.206808</td>\n      <td>P30542</td>\n      <td>REGRESSION</td>\n      <td>/home/sichom/projects/qsp-bench/data/singletas...</td>\n      <td>KNeighborsRegressor</td>\n      <td>NaN</td>\n      <td>singletask_reg_1051802512</td>\n      <td>P30542_FingerprintSet_MorganFP</td>\n      <td>/home/sichom/projects/qsp-bench/data/singletas...</td>\n      <td>singletask_reg</td>\n    </tr>\n    <tr>\n      <th>...</th>\n      <td>...</td>\n      <td>...</td>\n      <td>...</td>\n      <td>...</td>\n      <td>...</td>\n      <td>...</td>\n      <td>...</td>\n      <td>...</td>\n      <td>...</td>\n      <td>...</td>\n      <td>...</td>\n      <td>...</td>\n    </tr>\n    <tr>\n      <th>91</th>\n      <td>TestSetAssessor</td>\n      <td>mean_squared_error</td>\n      <td>-0.440295</td>\n      <td>P0DMS8</td>\n      <td>REGRESSION</td>\n      <td>/home/sichom/projects/qsp-bench/data/singletas...</td>\n      <td>GradientBoosting</td>\n      <td>{\"loss\": \"mse\", \"metric\": \"r2_score\", \"ntrees\"...</td>\n      <td>singletask_reg_2998485882</td>\n      <td>P0DMS8_FingerprintSet_MorganFP</td>\n      <td>/home/sichom/projects/qsp-bench/data/singletas...</td>\n      <td>singletask_reg</td>\n    </tr>\n    <tr>\n      <th>92</th>\n      <td>TestSetAssessor</td>\n      <td>r2_score</td>\n      <td>0.650813</td>\n      <td>P0DMS8</td>\n      <td>REGRESSION</td>\n      <td>/home/sichom/projects/qsp-bench/data/singletas...</td>\n      <td>GradientBoosting</td>\n      <td>{\"loss\": \"mse\", \"metric\": \"r2_score\", \"ntrees\"...</td>\n      <td>singletask_reg_1461364854</td>\n      <td>P0DMS8_FingerprintSet_MorganFP</td>\n      <td>/home/sichom/projects/qsp-bench/data/singletas...</td>\n      <td>singletask_reg</td>\n    </tr>\n    <tr>\n      <th>93</th>\n      <td>TestSetAssessor</td>\n      <td>mean_squared_error</td>\n      <td>-0.478178</td>\n      <td>P0DMS8</td>\n      <td>REGRESSION</td>\n      <td>/home/sichom/projects/qsp-bench/data/singletas...</td>\n      <td>GradientBoosting</td>\n      <td>{\"loss\": \"mse\", \"metric\": \"r2_score\", \"ntrees\"...</td>\n      <td>singletask_reg_1461364854</td>\n      <td>P0DMS8_FingerprintSet_MorganFP</td>\n      <td>/home/sichom/projects/qsp-bench/data/singletas...</td>\n      <td>singletask_reg</td>\n    </tr>\n    <tr>\n      <th>94</th>\n      <td>TestSetAssessor</td>\n      <td>r2_score</td>\n      <td>0.592846</td>\n      <td>P0DMS8</td>\n      <td>REGRESSION</td>\n      <td>/home/sichom/projects/qsp-bench/data/singletas...</td>\n      <td>GradientBoosting</td>\n      <td>{\"loss\": \"mse\", \"metric\": \"r2_score\", \"ntrees\"...</td>\n      <td>singletask_reg_667779376</td>\n      <td>P0DMS8_FingerprintSet_MorganFP</td>\n      <td>/home/sichom/projects/qsp-bench/data/singletas...</td>\n      <td>singletask_reg</td>\n    </tr>\n    <tr>\n      <th>95</th>\n      <td>TestSetAssessor</td>\n      <td>mean_squared_error</td>\n      <td>-0.574803</td>\n      <td>P0DMS8</td>\n      <td>REGRESSION</td>\n      <td>/home/sichom/projects/qsp-bench/data/singletas...</td>\n      <td>GradientBoosting</td>\n      <td>{\"loss\": \"mse\", \"metric\": \"r2_score\", \"ntrees\"...</td>\n      <td>singletask_reg_667779376</td>\n      <td>P0DMS8_FingerprintSet_MorganFP</td>\n      <td>/home/sichom/projects/qsp-bench/data/singletas...</td>\n      <td>singletask_reg</td>\n    </tr>\n  </tbody>\n</table>\n<p>96 rows × 12 columns</p>\n</div>"
     },
     "execution_count": 10,
     "metadata": {},
     "output_type": "execute_result"
    }
   ],
   "source": [
    "df_singletask[\"TargetProperty\"] = df_singletask.DataSet.apply(lambda x: x.split(\"_\")[0])\n",
    "df_singletask"
   ],
   "metadata": {
    "collapsed": false,
    "ExecuteTime": {
     "end_time": "2023-12-18T23:36:04.924957313Z",
     "start_time": "2023-12-18T23:36:04.897483629Z"
    }
   },
   "id": "aa870a74fb10ca36"
  },
  {
   "cell_type": "code",
   "execution_count": 11,
   "outputs": [
    {
     "data": {
      "text/plain": "           Assessor           ScoreFunc     Score TargetProperty  TargetTask  \\\n0   TestSetAssessor            r2_score  0.497540         P30542  REGRESSION   \n1   TestSetAssessor  mean_squared_error -0.494798         P30542  REGRESSION   \n2   TestSetAssessor            r2_score  0.486050         P30542  REGRESSION   \n3   TestSetAssessor  mean_squared_error -0.500093         P30542  REGRESSION   \n4   TestSetAssessor            r2_score  0.206808         P30542  REGRESSION   \n..              ...                 ...       ...            ...         ...   \n91  TestSetAssessor            r2_score  0.134656         P30542  REGRESSION   \n92  TestSetAssessor  mean_squared_error -0.459641         P0DMS8  REGRESSION   \n93  TestSetAssessor  mean_squared_error -0.630304         P29274  REGRESSION   \n94  TestSetAssessor  mean_squared_error -0.221637         P29275  REGRESSION   \n95  TestSetAssessor  mean_squared_error -0.469792         P30542  REGRESSION   \n\n                                            ModelFile            Algorithm  \\\n0   /home/sichom/projects/qsp-bench/data/singletas...  KNeighborsRegressor   \n1   /home/sichom/projects/qsp-bench/data/singletas...  KNeighborsRegressor   \n2   /home/sichom/projects/qsp-bench/data/singletas...  KNeighborsRegressor   \n3   /home/sichom/projects/qsp-bench/data/singletas...  KNeighborsRegressor   \n4   /home/sichom/projects/qsp-bench/data/singletas...  KNeighborsRegressor   \n..                                                ...                  ...   \n91  /home/sichom/projects/qsp-bench/data/multitask...  KNeighborsRegressor   \n92  /home/sichom/projects/qsp-bench/data/multitask...  KNeighborsRegressor   \n93  /home/sichom/projects/qsp-bench/data/multitask...  KNeighborsRegressor   \n94  /home/sichom/projects/qsp-bench/data/multitask...  KNeighborsRegressor   \n95  /home/sichom/projects/qsp-bench/data/multitask...  KNeighborsRegressor   \n\n   AlgorithmParams                  ReplicaID  \\\n0              NaN   singletask_reg_478163327   \n1              NaN   singletask_reg_478163327   \n2              NaN  singletask_reg_3184935163   \n3              NaN  singletask_reg_3184935163   \n4              NaN  singletask_reg_1051802512   \n..             ...                        ...   \n91             NaN   multitask_reg_3181143731   \n92             NaN   multitask_reg_3181143731   \n93             NaN   multitask_reg_3181143731   \n94             NaN   multitask_reg_3181143731   \n95             NaN   multitask_reg_3181143731   \n\n                                              DataSet  \\\n0                      P30542_FingerprintSet_MorganFP   \n1                      P30542_FingerprintSet_MorganFP   \n2                      P30542_FingerprintSet_MorganFP   \n3                      P30542_FingerprintSet_MorganFP   \n4                      P30542_FingerprintSet_MorganFP   \n..                                                ...   \n91  P0DMS8_P29274_P29275_P30542_FingerprintSet_Mor...   \n92  P0DMS8_P29274_P29275_P30542_FingerprintSet_Mor...   \n93  P0DMS8_P29274_P29275_P30542_FingerprintSet_Mor...   \n94  P0DMS8_P29274_P29275_P30542_FingerprintSet_Mor...   \n95  P0DMS8_P29274_P29275_P30542_FingerprintSet_Mor...   \n\n                                          ReplicaFile            Name  \n0   /home/sichom/projects/qsp-bench/data/singletas...  singletask_reg  \n1   /home/sichom/projects/qsp-bench/data/singletas...  singletask_reg  \n2   /home/sichom/projects/qsp-bench/data/singletas...  singletask_reg  \n3   /home/sichom/projects/qsp-bench/data/singletas...  singletask_reg  \n4   /home/sichom/projects/qsp-bench/data/singletas...  singletask_reg  \n..                                                ...             ...  \n91  /home/sichom/projects/qsp-bench/data/multitask...   multitask_reg  \n92  /home/sichom/projects/qsp-bench/data/multitask...   multitask_reg  \n93  /home/sichom/projects/qsp-bench/data/multitask...   multitask_reg  \n94  /home/sichom/projects/qsp-bench/data/multitask...   multitask_reg  \n95  /home/sichom/projects/qsp-bench/data/multitask...   multitask_reg  \n\n[192 rows x 12 columns]",
      "text/html": "<div>\n<style scoped>\n    .dataframe tbody tr th:only-of-type {\n        vertical-align: middle;\n    }\n\n    .dataframe tbody tr th {\n        vertical-align: top;\n    }\n\n    .dataframe thead th {\n        text-align: right;\n    }\n</style>\n<table border=\"1\" class=\"dataframe\">\n  <thead>\n    <tr style=\"text-align: right;\">\n      <th></th>\n      <th>Assessor</th>\n      <th>ScoreFunc</th>\n      <th>Score</th>\n      <th>TargetProperty</th>\n      <th>TargetTask</th>\n      <th>ModelFile</th>\n      <th>Algorithm</th>\n      <th>AlgorithmParams</th>\n      <th>ReplicaID</th>\n      <th>DataSet</th>\n      <th>ReplicaFile</th>\n      <th>Name</th>\n    </tr>\n  </thead>\n  <tbody>\n    <tr>\n      <th>0</th>\n      <td>TestSetAssessor</td>\n      <td>r2_score</td>\n      <td>0.497540</td>\n      <td>P30542</td>\n      <td>REGRESSION</td>\n      <td>/home/sichom/projects/qsp-bench/data/singletas...</td>\n      <td>KNeighborsRegressor</td>\n      <td>NaN</td>\n      <td>singletask_reg_478163327</td>\n      <td>P30542_FingerprintSet_MorganFP</td>\n      <td>/home/sichom/projects/qsp-bench/data/singletas...</td>\n      <td>singletask_reg</td>\n    </tr>\n    <tr>\n      <th>1</th>\n      <td>TestSetAssessor</td>\n      <td>mean_squared_error</td>\n      <td>-0.494798</td>\n      <td>P30542</td>\n      <td>REGRESSION</td>\n      <td>/home/sichom/projects/qsp-bench/data/singletas...</td>\n      <td>KNeighborsRegressor</td>\n      <td>NaN</td>\n      <td>singletask_reg_478163327</td>\n      <td>P30542_FingerprintSet_MorganFP</td>\n      <td>/home/sichom/projects/qsp-bench/data/singletas...</td>\n      <td>singletask_reg</td>\n    </tr>\n    <tr>\n      <th>2</th>\n      <td>TestSetAssessor</td>\n      <td>r2_score</td>\n      <td>0.486050</td>\n      <td>P30542</td>\n      <td>REGRESSION</td>\n      <td>/home/sichom/projects/qsp-bench/data/singletas...</td>\n      <td>KNeighborsRegressor</td>\n      <td>NaN</td>\n      <td>singletask_reg_3184935163</td>\n      <td>P30542_FingerprintSet_MorganFP</td>\n      <td>/home/sichom/projects/qsp-bench/data/singletas...</td>\n      <td>singletask_reg</td>\n    </tr>\n    <tr>\n      <th>3</th>\n      <td>TestSetAssessor</td>\n      <td>mean_squared_error</td>\n      <td>-0.500093</td>\n      <td>P30542</td>\n      <td>REGRESSION</td>\n      <td>/home/sichom/projects/qsp-bench/data/singletas...</td>\n      <td>KNeighborsRegressor</td>\n      <td>NaN</td>\n      <td>singletask_reg_3184935163</td>\n      <td>P30542_FingerprintSet_MorganFP</td>\n      <td>/home/sichom/projects/qsp-bench/data/singletas...</td>\n      <td>singletask_reg</td>\n    </tr>\n    <tr>\n      <th>4</th>\n      <td>TestSetAssessor</td>\n      <td>r2_score</td>\n      <td>0.206808</td>\n      <td>P30542</td>\n      <td>REGRESSION</td>\n      <td>/home/sichom/projects/qsp-bench/data/singletas...</td>\n      <td>KNeighborsRegressor</td>\n      <td>NaN</td>\n      <td>singletask_reg_1051802512</td>\n      <td>P30542_FingerprintSet_MorganFP</td>\n      <td>/home/sichom/projects/qsp-bench/data/singletas...</td>\n      <td>singletask_reg</td>\n    </tr>\n    <tr>\n      <th>...</th>\n      <td>...</td>\n      <td>...</td>\n      <td>...</td>\n      <td>...</td>\n      <td>...</td>\n      <td>...</td>\n      <td>...</td>\n      <td>...</td>\n      <td>...</td>\n      <td>...</td>\n      <td>...</td>\n      <td>...</td>\n    </tr>\n    <tr>\n      <th>91</th>\n      <td>TestSetAssessor</td>\n      <td>r2_score</td>\n      <td>0.134656</td>\n      <td>P30542</td>\n      <td>REGRESSION</td>\n      <td>/home/sichom/projects/qsp-bench/data/multitask...</td>\n      <td>KNeighborsRegressor</td>\n      <td>NaN</td>\n      <td>multitask_reg_3181143731</td>\n      <td>P0DMS8_P29274_P29275_P30542_FingerprintSet_Mor...</td>\n      <td>/home/sichom/projects/qsp-bench/data/multitask...</td>\n      <td>multitask_reg</td>\n    </tr>\n    <tr>\n      <th>92</th>\n      <td>TestSetAssessor</td>\n      <td>mean_squared_error</td>\n      <td>-0.459641</td>\n      <td>P0DMS8</td>\n      <td>REGRESSION</td>\n      <td>/home/sichom/projects/qsp-bench/data/multitask...</td>\n      <td>KNeighborsRegressor</td>\n      <td>NaN</td>\n      <td>multitask_reg_3181143731</td>\n      <td>P0DMS8_P29274_P29275_P30542_FingerprintSet_Mor...</td>\n      <td>/home/sichom/projects/qsp-bench/data/multitask...</td>\n      <td>multitask_reg</td>\n    </tr>\n    <tr>\n      <th>93</th>\n      <td>TestSetAssessor</td>\n      <td>mean_squared_error</td>\n      <td>-0.630304</td>\n      <td>P29274</td>\n      <td>REGRESSION</td>\n      <td>/home/sichom/projects/qsp-bench/data/multitask...</td>\n      <td>KNeighborsRegressor</td>\n      <td>NaN</td>\n      <td>multitask_reg_3181143731</td>\n      <td>P0DMS8_P29274_P29275_P30542_FingerprintSet_Mor...</td>\n      <td>/home/sichom/projects/qsp-bench/data/multitask...</td>\n      <td>multitask_reg</td>\n    </tr>\n    <tr>\n      <th>94</th>\n      <td>TestSetAssessor</td>\n      <td>mean_squared_error</td>\n      <td>-0.221637</td>\n      <td>P29275</td>\n      <td>REGRESSION</td>\n      <td>/home/sichom/projects/qsp-bench/data/multitask...</td>\n      <td>KNeighborsRegressor</td>\n      <td>NaN</td>\n      <td>multitask_reg_3181143731</td>\n      <td>P0DMS8_P29274_P29275_P30542_FingerprintSet_Mor...</td>\n      <td>/home/sichom/projects/qsp-bench/data/multitask...</td>\n      <td>multitask_reg</td>\n    </tr>\n    <tr>\n      <th>95</th>\n      <td>TestSetAssessor</td>\n      <td>mean_squared_error</td>\n      <td>-0.469792</td>\n      <td>P30542</td>\n      <td>REGRESSION</td>\n      <td>/home/sichom/projects/qsp-bench/data/multitask...</td>\n      <td>KNeighborsRegressor</td>\n      <td>NaN</td>\n      <td>multitask_reg_3181143731</td>\n      <td>P0DMS8_P29274_P29275_P30542_FingerprintSet_Mor...</td>\n      <td>/home/sichom/projects/qsp-bench/data/multitask...</td>\n      <td>multitask_reg</td>\n    </tr>\n  </tbody>\n</table>\n<p>192 rows × 12 columns</p>\n</div>"
     },
     "execution_count": 11,
     "metadata": {},
     "output_type": "execute_result"
    }
   ],
   "source": [
    "df_all = pd.concat([df_singletask,  df_multitask])\n",
    "df_all"
   ],
   "metadata": {
    "collapsed": false,
    "ExecuteTime": {
     "end_time": "2023-12-18T23:36:05.034883335Z",
     "start_time": "2023-12-18T23:36:04.979199795Z"
    }
   },
   "id": "4f4e01a86a417819"
  },
  {
   "cell_type": "code",
   "execution_count": 12,
   "outputs": [
    {
     "data": {
      "text/plain": "           Assessor           ScoreFunc     Score TargetProperty  TargetTask  \\\n0   TestSetAssessor            r2_score  0.497540         P30542  REGRESSION   \n1   TestSetAssessor  mean_squared_error  0.494798         P30542  REGRESSION   \n2   TestSetAssessor            r2_score  0.486050         P30542  REGRESSION   \n3   TestSetAssessor  mean_squared_error  0.500093         P30542  REGRESSION   \n4   TestSetAssessor            r2_score  0.206808         P30542  REGRESSION   \n..              ...                 ...       ...            ...         ...   \n91  TestSetAssessor            r2_score  0.134656         P30542  REGRESSION   \n92  TestSetAssessor  mean_squared_error  0.459641         P0DMS8  REGRESSION   \n93  TestSetAssessor  mean_squared_error  0.630304         P29274  REGRESSION   \n94  TestSetAssessor  mean_squared_error  0.221637         P29275  REGRESSION   \n95  TestSetAssessor  mean_squared_error  0.469792         P30542  REGRESSION   \n\n                                            ModelFile            Algorithm  \\\n0   /home/sichom/projects/qsp-bench/data/singletas...  KNeighborsRegressor   \n1   /home/sichom/projects/qsp-bench/data/singletas...  KNeighborsRegressor   \n2   /home/sichom/projects/qsp-bench/data/singletas...  KNeighborsRegressor   \n3   /home/sichom/projects/qsp-bench/data/singletas...  KNeighborsRegressor   \n4   /home/sichom/projects/qsp-bench/data/singletas...  KNeighborsRegressor   \n..                                                ...                  ...   \n91  /home/sichom/projects/qsp-bench/data/multitask...  KNeighborsRegressor   \n92  /home/sichom/projects/qsp-bench/data/multitask...  KNeighborsRegressor   \n93  /home/sichom/projects/qsp-bench/data/multitask...  KNeighborsRegressor   \n94  /home/sichom/projects/qsp-bench/data/multitask...  KNeighborsRegressor   \n95  /home/sichom/projects/qsp-bench/data/multitask...  KNeighborsRegressor   \n\n   AlgorithmParams                  ReplicaID  \\\n0              NaN   singletask_reg_478163327   \n1              NaN   singletask_reg_478163327   \n2              NaN  singletask_reg_3184935163   \n3              NaN  singletask_reg_3184935163   \n4              NaN  singletask_reg_1051802512   \n..             ...                        ...   \n91             NaN   multitask_reg_3181143731   \n92             NaN   multitask_reg_3181143731   \n93             NaN   multitask_reg_3181143731   \n94             NaN   multitask_reg_3181143731   \n95             NaN   multitask_reg_3181143731   \n\n                                              DataSet  \\\n0                      P30542_FingerprintSet_MorganFP   \n1                      P30542_FingerprintSet_MorganFP   \n2                      P30542_FingerprintSet_MorganFP   \n3                      P30542_FingerprintSet_MorganFP   \n4                      P30542_FingerprintSet_MorganFP   \n..                                                ...   \n91  P0DMS8_P29274_P29275_P30542_FingerprintSet_Mor...   \n92  P0DMS8_P29274_P29275_P30542_FingerprintSet_Mor...   \n93  P0DMS8_P29274_P29275_P30542_FingerprintSet_Mor...   \n94  P0DMS8_P29274_P29275_P30542_FingerprintSet_Mor...   \n95  P0DMS8_P29274_P29275_P30542_FingerprintSet_Mor...   \n\n                                          ReplicaFile            Name  \n0   /home/sichom/projects/qsp-bench/data/singletas...  singletask_reg  \n1   /home/sichom/projects/qsp-bench/data/singletas...  singletask_reg  \n2   /home/sichom/projects/qsp-bench/data/singletas...  singletask_reg  \n3   /home/sichom/projects/qsp-bench/data/singletas...  singletask_reg  \n4   /home/sichom/projects/qsp-bench/data/singletas...  singletask_reg  \n..                                                ...             ...  \n91  /home/sichom/projects/qsp-bench/data/multitask...   multitask_reg  \n92  /home/sichom/projects/qsp-bench/data/multitask...   multitask_reg  \n93  /home/sichom/projects/qsp-bench/data/multitask...   multitask_reg  \n94  /home/sichom/projects/qsp-bench/data/multitask...   multitask_reg  \n95  /home/sichom/projects/qsp-bench/data/multitask...   multitask_reg  \n\n[192 rows x 12 columns]",
      "text/html": "<div>\n<style scoped>\n    .dataframe tbody tr th:only-of-type {\n        vertical-align: middle;\n    }\n\n    .dataframe tbody tr th {\n        vertical-align: top;\n    }\n\n    .dataframe thead th {\n        text-align: right;\n    }\n</style>\n<table border=\"1\" class=\"dataframe\">\n  <thead>\n    <tr style=\"text-align: right;\">\n      <th></th>\n      <th>Assessor</th>\n      <th>ScoreFunc</th>\n      <th>Score</th>\n      <th>TargetProperty</th>\n      <th>TargetTask</th>\n      <th>ModelFile</th>\n      <th>Algorithm</th>\n      <th>AlgorithmParams</th>\n      <th>ReplicaID</th>\n      <th>DataSet</th>\n      <th>ReplicaFile</th>\n      <th>Name</th>\n    </tr>\n  </thead>\n  <tbody>\n    <tr>\n      <th>0</th>\n      <td>TestSetAssessor</td>\n      <td>r2_score</td>\n      <td>0.497540</td>\n      <td>P30542</td>\n      <td>REGRESSION</td>\n      <td>/home/sichom/projects/qsp-bench/data/singletas...</td>\n      <td>KNeighborsRegressor</td>\n      <td>NaN</td>\n      <td>singletask_reg_478163327</td>\n      <td>P30542_FingerprintSet_MorganFP</td>\n      <td>/home/sichom/projects/qsp-bench/data/singletas...</td>\n      <td>singletask_reg</td>\n    </tr>\n    <tr>\n      <th>1</th>\n      <td>TestSetAssessor</td>\n      <td>mean_squared_error</td>\n      <td>0.494798</td>\n      <td>P30542</td>\n      <td>REGRESSION</td>\n      <td>/home/sichom/projects/qsp-bench/data/singletas...</td>\n      <td>KNeighborsRegressor</td>\n      <td>NaN</td>\n      <td>singletask_reg_478163327</td>\n      <td>P30542_FingerprintSet_MorganFP</td>\n      <td>/home/sichom/projects/qsp-bench/data/singletas...</td>\n      <td>singletask_reg</td>\n    </tr>\n    <tr>\n      <th>2</th>\n      <td>TestSetAssessor</td>\n      <td>r2_score</td>\n      <td>0.486050</td>\n      <td>P30542</td>\n      <td>REGRESSION</td>\n      <td>/home/sichom/projects/qsp-bench/data/singletas...</td>\n      <td>KNeighborsRegressor</td>\n      <td>NaN</td>\n      <td>singletask_reg_3184935163</td>\n      <td>P30542_FingerprintSet_MorganFP</td>\n      <td>/home/sichom/projects/qsp-bench/data/singletas...</td>\n      <td>singletask_reg</td>\n    </tr>\n    <tr>\n      <th>3</th>\n      <td>TestSetAssessor</td>\n      <td>mean_squared_error</td>\n      <td>0.500093</td>\n      <td>P30542</td>\n      <td>REGRESSION</td>\n      <td>/home/sichom/projects/qsp-bench/data/singletas...</td>\n      <td>KNeighborsRegressor</td>\n      <td>NaN</td>\n      <td>singletask_reg_3184935163</td>\n      <td>P30542_FingerprintSet_MorganFP</td>\n      <td>/home/sichom/projects/qsp-bench/data/singletas...</td>\n      <td>singletask_reg</td>\n    </tr>\n    <tr>\n      <th>4</th>\n      <td>TestSetAssessor</td>\n      <td>r2_score</td>\n      <td>0.206808</td>\n      <td>P30542</td>\n      <td>REGRESSION</td>\n      <td>/home/sichom/projects/qsp-bench/data/singletas...</td>\n      <td>KNeighborsRegressor</td>\n      <td>NaN</td>\n      <td>singletask_reg_1051802512</td>\n      <td>P30542_FingerprintSet_MorganFP</td>\n      <td>/home/sichom/projects/qsp-bench/data/singletas...</td>\n      <td>singletask_reg</td>\n    </tr>\n    <tr>\n      <th>...</th>\n      <td>...</td>\n      <td>...</td>\n      <td>...</td>\n      <td>...</td>\n      <td>...</td>\n      <td>...</td>\n      <td>...</td>\n      <td>...</td>\n      <td>...</td>\n      <td>...</td>\n      <td>...</td>\n      <td>...</td>\n    </tr>\n    <tr>\n      <th>91</th>\n      <td>TestSetAssessor</td>\n      <td>r2_score</td>\n      <td>0.134656</td>\n      <td>P30542</td>\n      <td>REGRESSION</td>\n      <td>/home/sichom/projects/qsp-bench/data/multitask...</td>\n      <td>KNeighborsRegressor</td>\n      <td>NaN</td>\n      <td>multitask_reg_3181143731</td>\n      <td>P0DMS8_P29274_P29275_P30542_FingerprintSet_Mor...</td>\n      <td>/home/sichom/projects/qsp-bench/data/multitask...</td>\n      <td>multitask_reg</td>\n    </tr>\n    <tr>\n      <th>92</th>\n      <td>TestSetAssessor</td>\n      <td>mean_squared_error</td>\n      <td>0.459641</td>\n      <td>P0DMS8</td>\n      <td>REGRESSION</td>\n      <td>/home/sichom/projects/qsp-bench/data/multitask...</td>\n      <td>KNeighborsRegressor</td>\n      <td>NaN</td>\n      <td>multitask_reg_3181143731</td>\n      <td>P0DMS8_P29274_P29275_P30542_FingerprintSet_Mor...</td>\n      <td>/home/sichom/projects/qsp-bench/data/multitask...</td>\n      <td>multitask_reg</td>\n    </tr>\n    <tr>\n      <th>93</th>\n      <td>TestSetAssessor</td>\n      <td>mean_squared_error</td>\n      <td>0.630304</td>\n      <td>P29274</td>\n      <td>REGRESSION</td>\n      <td>/home/sichom/projects/qsp-bench/data/multitask...</td>\n      <td>KNeighborsRegressor</td>\n      <td>NaN</td>\n      <td>multitask_reg_3181143731</td>\n      <td>P0DMS8_P29274_P29275_P30542_FingerprintSet_Mor...</td>\n      <td>/home/sichom/projects/qsp-bench/data/multitask...</td>\n      <td>multitask_reg</td>\n    </tr>\n    <tr>\n      <th>94</th>\n      <td>TestSetAssessor</td>\n      <td>mean_squared_error</td>\n      <td>0.221637</td>\n      <td>P29275</td>\n      <td>REGRESSION</td>\n      <td>/home/sichom/projects/qsp-bench/data/multitask...</td>\n      <td>KNeighborsRegressor</td>\n      <td>NaN</td>\n      <td>multitask_reg_3181143731</td>\n      <td>P0DMS8_P29274_P29275_P30542_FingerprintSet_Mor...</td>\n      <td>/home/sichom/projects/qsp-bench/data/multitask...</td>\n      <td>multitask_reg</td>\n    </tr>\n    <tr>\n      <th>95</th>\n      <td>TestSetAssessor</td>\n      <td>mean_squared_error</td>\n      <td>0.469792</td>\n      <td>P30542</td>\n      <td>REGRESSION</td>\n      <td>/home/sichom/projects/qsp-bench/data/multitask...</td>\n      <td>KNeighborsRegressor</td>\n      <td>NaN</td>\n      <td>multitask_reg_3181143731</td>\n      <td>P0DMS8_P29274_P29275_P30542_FingerprintSet_Mor...</td>\n      <td>/home/sichom/projects/qsp-bench/data/multitask...</td>\n      <td>multitask_reg</td>\n    </tr>\n  </tbody>\n</table>\n<p>192 rows × 12 columns</p>\n</div>"
     },
     "execution_count": 12,
     "metadata": {},
     "output_type": "execute_result"
    }
   ],
   "source": [
    "def revert_metric(row, metric):\n",
    "    func = row.ScoreFunc\n",
    "    val = row.Score\n",
    "    if func == metric:\n",
    "        val = -1  *  val\n",
    "    return pd.Series({\"ScoreFunc\":func, \"Score\":val})\n",
    "\n",
    "df_all[[\"ScoreFunc\", \"Score\"]] =  df_all[[\"ScoreFunc\", \"Score\"]].apply(\n",
    "    revert_metric, \n",
    "    args=(\"mean_squared_error\",), \n",
    "    axis=1\n",
    ")\n",
    "df_all"
   ],
   "metadata": {
    "collapsed": false,
    "ExecuteTime": {
     "end_time": "2023-12-18T23:36:05.110014544Z",
     "start_time": "2023-12-18T23:36:05.024225550Z"
    }
   },
   "id": "d8dfac3cfa42f9e6"
  },
  {
   "cell_type": "code",
   "execution_count": 13,
   "outputs": [
    {
     "data": {
      "text/plain": "           Assessor           ScoreFunc     Score TargetProperty  TargetTask  \\\n0   TestSetAssessor            r2_score  0.497540         P30542  REGRESSION   \n1   TestSetAssessor  mean_squared_error  0.494798         P30542  REGRESSION   \n2   TestSetAssessor            r2_score  0.486050         P30542  REGRESSION   \n3   TestSetAssessor  mean_squared_error  0.500093         P30542  REGRESSION   \n4   TestSetAssessor            r2_score  0.206808         P30542  REGRESSION   \n..              ...                 ...       ...            ...         ...   \n91  TestSetAssessor            r2_score  0.134656         P30542  REGRESSION   \n92  TestSetAssessor  mean_squared_error  0.459641         P0DMS8  REGRESSION   \n93  TestSetAssessor  mean_squared_error  0.630304         P29274  REGRESSION   \n94  TestSetAssessor  mean_squared_error  0.221637         P29275  REGRESSION   \n95  TestSetAssessor  mean_squared_error  0.469792         P30542  REGRESSION   \n\n                                            ModelFile            Algorithm  \\\n0   /home/sichom/projects/qsp-bench/data/singletas...  KNeighborsRegressor   \n1   /home/sichom/projects/qsp-bench/data/singletas...  KNeighborsRegressor   \n2   /home/sichom/projects/qsp-bench/data/singletas...  KNeighborsRegressor   \n3   /home/sichom/projects/qsp-bench/data/singletas...  KNeighborsRegressor   \n4   /home/sichom/projects/qsp-bench/data/singletas...  KNeighborsRegressor   \n..                                                ...                  ...   \n91  /home/sichom/projects/qsp-bench/data/multitask...  KNeighborsRegressor   \n92  /home/sichom/projects/qsp-bench/data/multitask...  KNeighborsRegressor   \n93  /home/sichom/projects/qsp-bench/data/multitask...  KNeighborsRegressor   \n94  /home/sichom/projects/qsp-bench/data/multitask...  KNeighborsRegressor   \n95  /home/sichom/projects/qsp-bench/data/multitask...  KNeighborsRegressor   \n\n   AlgorithmParams                  ReplicaID  \\\n0              NaN   singletask_reg_478163327   \n1              NaN   singletask_reg_478163327   \n2              NaN  singletask_reg_3184935163   \n3              NaN  singletask_reg_3184935163   \n4              NaN  singletask_reg_1051802512   \n..             ...                        ...   \n91             NaN   multitask_reg_3181143731   \n92             NaN   multitask_reg_3181143731   \n93             NaN   multitask_reg_3181143731   \n94             NaN   multitask_reg_3181143731   \n95             NaN   multitask_reg_3181143731   \n\n                                              DataSet  \\\n0                      P30542_FingerprintSet_MorganFP   \n1                      P30542_FingerprintSet_MorganFP   \n2                      P30542_FingerprintSet_MorganFP   \n3                      P30542_FingerprintSet_MorganFP   \n4                      P30542_FingerprintSet_MorganFP   \n..                                                ...   \n91  P0DMS8_P29274_P29275_P30542_FingerprintSet_Mor...   \n92  P0DMS8_P29274_P29275_P30542_FingerprintSet_Mor...   \n93  P0DMS8_P29274_P29275_P30542_FingerprintSet_Mor...   \n94  P0DMS8_P29274_P29275_P30542_FingerprintSet_Mor...   \n95  P0DMS8_P29274_P29275_P30542_FingerprintSet_Mor...   \n\n                                          ReplicaFile            Name  \\\n0   /home/sichom/projects/qsp-bench/data/singletas...  singletask_reg   \n1   /home/sichom/projects/qsp-bench/data/singletas...  singletask_reg   \n2   /home/sichom/projects/qsp-bench/data/singletas...  singletask_reg   \n3   /home/sichom/projects/qsp-bench/data/singletas...  singletask_reg   \n4   /home/sichom/projects/qsp-bench/data/singletas...  singletask_reg   \n..                                                ...             ...   \n91  /home/sichom/projects/qsp-bench/data/multitask...   multitask_reg   \n92  /home/sichom/projects/qsp-bench/data/multitask...   multitask_reg   \n93  /home/sichom/projects/qsp-bench/data/multitask...   multitask_reg   \n94  /home/sichom/projects/qsp-bench/data/multitask...   multitask_reg   \n95  /home/sichom/projects/qsp-bench/data/multitask...   multitask_reg   \n\n              Split  \n0       RandomSplit  \n1       RandomSplit  \n2   GBMTRandomSplit  \n3   GBMTRandomSplit  \n4      ClusterSplit  \n..              ...  \n91     ClusterSplit  \n92     ClusterSplit  \n93     ClusterSplit  \n94     ClusterSplit  \n95     ClusterSplit  \n\n[192 rows x 13 columns]",
      "text/html": "<div>\n<style scoped>\n    .dataframe tbody tr th:only-of-type {\n        vertical-align: middle;\n    }\n\n    .dataframe tbody tr th {\n        vertical-align: top;\n    }\n\n    .dataframe thead th {\n        text-align: right;\n    }\n</style>\n<table border=\"1\" class=\"dataframe\">\n  <thead>\n    <tr style=\"text-align: right;\">\n      <th></th>\n      <th>Assessor</th>\n      <th>ScoreFunc</th>\n      <th>Score</th>\n      <th>TargetProperty</th>\n      <th>TargetTask</th>\n      <th>ModelFile</th>\n      <th>Algorithm</th>\n      <th>AlgorithmParams</th>\n      <th>ReplicaID</th>\n      <th>DataSet</th>\n      <th>ReplicaFile</th>\n      <th>Name</th>\n      <th>Split</th>\n    </tr>\n  </thead>\n  <tbody>\n    <tr>\n      <th>0</th>\n      <td>TestSetAssessor</td>\n      <td>r2_score</td>\n      <td>0.497540</td>\n      <td>P30542</td>\n      <td>REGRESSION</td>\n      <td>/home/sichom/projects/qsp-bench/data/singletas...</td>\n      <td>KNeighborsRegressor</td>\n      <td>NaN</td>\n      <td>singletask_reg_478163327</td>\n      <td>P30542_FingerprintSet_MorganFP</td>\n      <td>/home/sichom/projects/qsp-bench/data/singletas...</td>\n      <td>singletask_reg</td>\n      <td>RandomSplit</td>\n    </tr>\n    <tr>\n      <th>1</th>\n      <td>TestSetAssessor</td>\n      <td>mean_squared_error</td>\n      <td>0.494798</td>\n      <td>P30542</td>\n      <td>REGRESSION</td>\n      <td>/home/sichom/projects/qsp-bench/data/singletas...</td>\n      <td>KNeighborsRegressor</td>\n      <td>NaN</td>\n      <td>singletask_reg_478163327</td>\n      <td>P30542_FingerprintSet_MorganFP</td>\n      <td>/home/sichom/projects/qsp-bench/data/singletas...</td>\n      <td>singletask_reg</td>\n      <td>RandomSplit</td>\n    </tr>\n    <tr>\n      <th>2</th>\n      <td>TestSetAssessor</td>\n      <td>r2_score</td>\n      <td>0.486050</td>\n      <td>P30542</td>\n      <td>REGRESSION</td>\n      <td>/home/sichom/projects/qsp-bench/data/singletas...</td>\n      <td>KNeighborsRegressor</td>\n      <td>NaN</td>\n      <td>singletask_reg_3184935163</td>\n      <td>P30542_FingerprintSet_MorganFP</td>\n      <td>/home/sichom/projects/qsp-bench/data/singletas...</td>\n      <td>singletask_reg</td>\n      <td>GBMTRandomSplit</td>\n    </tr>\n    <tr>\n      <th>3</th>\n      <td>TestSetAssessor</td>\n      <td>mean_squared_error</td>\n      <td>0.500093</td>\n      <td>P30542</td>\n      <td>REGRESSION</td>\n      <td>/home/sichom/projects/qsp-bench/data/singletas...</td>\n      <td>KNeighborsRegressor</td>\n      <td>NaN</td>\n      <td>singletask_reg_3184935163</td>\n      <td>P30542_FingerprintSet_MorganFP</td>\n      <td>/home/sichom/projects/qsp-bench/data/singletas...</td>\n      <td>singletask_reg</td>\n      <td>GBMTRandomSplit</td>\n    </tr>\n    <tr>\n      <th>4</th>\n      <td>TestSetAssessor</td>\n      <td>r2_score</td>\n      <td>0.206808</td>\n      <td>P30542</td>\n      <td>REGRESSION</td>\n      <td>/home/sichom/projects/qsp-bench/data/singletas...</td>\n      <td>KNeighborsRegressor</td>\n      <td>NaN</td>\n      <td>singletask_reg_1051802512</td>\n      <td>P30542_FingerprintSet_MorganFP</td>\n      <td>/home/sichom/projects/qsp-bench/data/singletas...</td>\n      <td>singletask_reg</td>\n      <td>ClusterSplit</td>\n    </tr>\n    <tr>\n      <th>...</th>\n      <td>...</td>\n      <td>...</td>\n      <td>...</td>\n      <td>...</td>\n      <td>...</td>\n      <td>...</td>\n      <td>...</td>\n      <td>...</td>\n      <td>...</td>\n      <td>...</td>\n      <td>...</td>\n      <td>...</td>\n      <td>...</td>\n    </tr>\n    <tr>\n      <th>91</th>\n      <td>TestSetAssessor</td>\n      <td>r2_score</td>\n      <td>0.134656</td>\n      <td>P30542</td>\n      <td>REGRESSION</td>\n      <td>/home/sichom/projects/qsp-bench/data/multitask...</td>\n      <td>KNeighborsRegressor</td>\n      <td>NaN</td>\n      <td>multitask_reg_3181143731</td>\n      <td>P0DMS8_P29274_P29275_P30542_FingerprintSet_Mor...</td>\n      <td>/home/sichom/projects/qsp-bench/data/multitask...</td>\n      <td>multitask_reg</td>\n      <td>ClusterSplit</td>\n    </tr>\n    <tr>\n      <th>92</th>\n      <td>TestSetAssessor</td>\n      <td>mean_squared_error</td>\n      <td>0.459641</td>\n      <td>P0DMS8</td>\n      <td>REGRESSION</td>\n      <td>/home/sichom/projects/qsp-bench/data/multitask...</td>\n      <td>KNeighborsRegressor</td>\n      <td>NaN</td>\n      <td>multitask_reg_3181143731</td>\n      <td>P0DMS8_P29274_P29275_P30542_FingerprintSet_Mor...</td>\n      <td>/home/sichom/projects/qsp-bench/data/multitask...</td>\n      <td>multitask_reg</td>\n      <td>ClusterSplit</td>\n    </tr>\n    <tr>\n      <th>93</th>\n      <td>TestSetAssessor</td>\n      <td>mean_squared_error</td>\n      <td>0.630304</td>\n      <td>P29274</td>\n      <td>REGRESSION</td>\n      <td>/home/sichom/projects/qsp-bench/data/multitask...</td>\n      <td>KNeighborsRegressor</td>\n      <td>NaN</td>\n      <td>multitask_reg_3181143731</td>\n      <td>P0DMS8_P29274_P29275_P30542_FingerprintSet_Mor...</td>\n      <td>/home/sichom/projects/qsp-bench/data/multitask...</td>\n      <td>multitask_reg</td>\n      <td>ClusterSplit</td>\n    </tr>\n    <tr>\n      <th>94</th>\n      <td>TestSetAssessor</td>\n      <td>mean_squared_error</td>\n      <td>0.221637</td>\n      <td>P29275</td>\n      <td>REGRESSION</td>\n      <td>/home/sichom/projects/qsp-bench/data/multitask...</td>\n      <td>KNeighborsRegressor</td>\n      <td>NaN</td>\n      <td>multitask_reg_3181143731</td>\n      <td>P0DMS8_P29274_P29275_P30542_FingerprintSet_Mor...</td>\n      <td>/home/sichom/projects/qsp-bench/data/multitask...</td>\n      <td>multitask_reg</td>\n      <td>ClusterSplit</td>\n    </tr>\n    <tr>\n      <th>95</th>\n      <td>TestSetAssessor</td>\n      <td>mean_squared_error</td>\n      <td>0.469792</td>\n      <td>P30542</td>\n      <td>REGRESSION</td>\n      <td>/home/sichom/projects/qsp-bench/data/multitask...</td>\n      <td>KNeighborsRegressor</td>\n      <td>NaN</td>\n      <td>multitask_reg_3181143731</td>\n      <td>P0DMS8_P29274_P29275_P30542_FingerprintSet_Mor...</td>\n      <td>/home/sichom/projects/qsp-bench/data/multitask...</td>\n      <td>multitask_reg</td>\n      <td>ClusterSplit</td>\n    </tr>\n  </tbody>\n</table>\n<p>192 rows × 13 columns</p>\n</div>"
     },
     "execution_count": 13,
     "metadata": {},
     "output_type": "execute_result"
    }
   ],
   "source": [
    "from qsprpred.benchmarks import Replica\n",
    "\n",
    "\n",
    "def get_split(replica_file):\n",
    "    replica = Replica.fromFile(replica_file)\n",
    "    return replica.prepSettings.split.__class__.__name__\n",
    "\n",
    "df_all[\"Split\"] = df_all.ReplicaFile.apply(get_split)\n",
    "df_all"
   ],
   "metadata": {
    "collapsed": false,
    "ExecuteTime": {
     "end_time": "2023-12-18T23:36:06.861934299Z",
     "start_time": "2023-12-18T23:36:05.074577422Z"
    }
   },
   "id": "487c551fa6af5445"
  },
  {
   "cell_type": "code",
   "execution_count": 14,
   "outputs": [
    {
     "name": "stderr",
     "output_type": "stream",
     "text": [
      "/home/sichom/projects/qsp-bench/utils.py:61: UserWarning: The palette list has more values (10) than needed (2), which may not be intended.\n",
      "  sns.boxplot(\n",
      "/home/sichom/projects/qsp-bench/utils.py:61: UserWarning: The palette list has more values (10) than needed (2), which may not be intended.\n",
      "  sns.boxplot(\n",
      "/home/sichom/projects/qsp-bench/utils.py:61: UserWarning: The palette list has more values (10) than needed (2), which may not be intended.\n",
      "  sns.boxplot(\n",
      "/home/sichom/projects/qsp-bench/utils.py:61: UserWarning: The palette list has more values (10) than needed (2), which may not be intended.\n",
      "  sns.boxplot(\n",
      "/home/sichom/projects/qsp-bench/utils.py:61: UserWarning: The palette list has more values (10) than needed (2), which may not be intended.\n",
      "  sns.boxplot(\n",
      "/home/sichom/projects/qsp-bench/utils.py:61: UserWarning: The palette list has more values (10) than needed (2), which may not be intended.\n",
      "  sns.boxplot(\n",
      "/home/sichom/projects/qsp-bench/utils.py:61: UserWarning: The palette list has more values (10) than needed (2), which may not be intended.\n",
      "  sns.boxplot(\n",
      "/home/sichom/projects/qsp-bench/utils.py:61: UserWarning: The palette list has more values (10) than needed (2), which may not be intended.\n",
      "  sns.boxplot(\n",
      "/home/sichom/projects/qsp-bench/utils.py:61: UserWarning: The palette list has more values (10) than needed (2), which may not be intended.\n",
      "  sns.boxplot(\n",
      "/home/sichom/projects/qsp-bench/utils.py:61: UserWarning: The palette list has more values (10) than needed (2), which may not be intended.\n",
      "  sns.boxplot(\n",
      "/home/sichom/projects/qsp-bench/utils.py:61: UserWarning: The palette list has more values (10) than needed (2), which may not be intended.\n",
      "  sns.boxplot(\n",
      "/home/sichom/projects/qsp-bench/utils.py:61: UserWarning: The palette list has more values (10) than needed (2), which may not be intended.\n",
      "  sns.boxplot(\n"
     ]
    }
   ],
   "source": [
    "from utils.plotting import make_box_plot\n",
    "\n",
    "df_all.sort_values(by=[\"Name\", \"TargetProperty\", \"Algorithm\"], inplace=True)\n",
    "for split_name, df_split in df_all.groupby(\"Split\"):\n",
    "    make_box_plot(\n",
    "        df_split[df_split.Name == SINGLETASK_NAME],\n",
    "        x=\"TargetProperty\",\n",
    "        y=\"Score\",\n",
    "        hue=\"Algorithm\",\n",
    "        plot_name=f\"{SINGLETASK_NAME}_{split_name}\",\n",
    "        ylim=(0, 1)\n",
    "    )\n",
    "    make_box_plot(\n",
    "        df_split[df_split.Name == MULTITASK_NAME],\n",
    "        x=\"TargetProperty\",\n",
    "        y=\"Score\",\n",
    "        hue=\"Algorithm\",\n",
    "        plot_name=f\"{MULTITASK_NAME}_{split_name}\",\n",
    "        ylim=(0, 1)\n",
    "    )"
   ],
   "metadata": {
    "collapsed": false,
    "ExecuteTime": {
     "end_time": "2023-12-18T23:36:08.833919279Z",
     "start_time": "2023-12-18T23:36:06.882637815Z"
    }
   },
   "id": "9ca2ed6330c92dcb"
  },
  {
   "cell_type": "code",
   "execution_count": 14,
   "outputs": [],
   "source": [],
   "metadata": {
    "collapsed": false,
    "ExecuteTime": {
     "end_time": "2023-12-18T23:36:08.836529271Z",
     "start_time": "2023-12-18T23:36:08.833092902Z"
    }
   },
   "id": "7d8ce8b78ddfe36f"
  }
 ],
 "metadata": {
  "kernelspec": {
   "display_name": "Python 3",
   "language": "python",
   "name": "python3"
  },
  "language_info": {
   "codemirror_mode": {
    "name": "ipython",
    "version": 2
   },
   "file_extension": ".py",
   "mimetype": "text/x-python",
   "name": "python",
   "nbconvert_exporter": "python",
   "pygments_lexer": "ipython2",
   "version": "2.7.6"
  }
 },
 "nbformat": 4,
 "nbformat_minor": 5
}
